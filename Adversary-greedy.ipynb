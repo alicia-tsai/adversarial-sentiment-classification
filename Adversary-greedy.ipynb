{
 "cells": [
  {
   "cell_type": "code",
   "execution_count": 1,
   "metadata": {},
   "outputs": [],
   "source": [
    "import numpy as np\n",
    "from scipy.spatial.distance import cosine\n",
    "import torch\n",
    "from torch.autograd import Variable\n",
    "import torch.nn.functional as F\n",
    "\n",
    "from data_loader import DataLoader\n",
    "from classifier import train_classifier, load_saved_model\n",
    "\n",
    "%load_ext autoreload\n",
    "%autoreload 2"
   ]
  },
  {
   "cell_type": "code",
   "execution_count": 6,
   "metadata": {},
   "outputs": [
    {
     "name": "stdout",
     "output_type": "stream",
     "text": [
      "loading data...\n"
     ]
    }
   ],
   "source": [
    "data_loader = DataLoader()\n",
    "data_loader.load_data()"
   ]
  },
  {
   "cell_type": "code",
   "execution_count": 8,
   "metadata": {},
   "outputs": [
    {
     "name": "stdout",
     "output_type": "stream",
     "text": [
      "splitting data...\n",
      "building vocabulary...\n",
      "CNN(\n",
      "  (embedding): Embedding(25002, 100)\n",
      "  (convs1): ModuleList(\n",
      "    (0): Conv2d(1, 100, kernel_size=(3, 100), stride=(1, 1))\n",
      "    (1): Conv2d(1, 100, kernel_size=(4, 100), stride=(1, 1))\n",
      "    (2): Conv2d(1, 100, kernel_size=(5, 100), stride=(1, 1))\n",
      "  )\n",
      "  (dropout): Dropout(p=0.5)\n",
      "  (fc1): Linear(in_features=300, out_features=1, bias=True)\n",
      ")\n"
     ]
    }
   ],
   "source": [
    "# this model is trained using large dataset\n",
    "cnn_model = load_saved_model('CNN', 'saved_model/cnn-1.pt', data_loader)"
   ]
  },
  {
   "cell_type": "code",
   "execution_count": 9,
   "metadata": {},
   "outputs": [],
   "source": [
    "def k_nearest(matrix,vector,k):\n",
    "    \"\"\"\n",
    "    The function takes in a matrix and a normalized vector and returns the indices\n",
    "    of the vectors from the matrix which are closest to the vector.\n",
    "    The pretrained embeddings are normalized.\n",
    "    \"\"\"\n",
    "    distances = np.dot(matrix,vector)\n",
    "    print(max(distances))\n",
    "    result = np.argsort(distances)[::-1][:k]\n",
    "    return result"
   ]
  },
  {
   "cell_type": "code",
   "execution_count": 20,
   "metadata": {},
   "outputs": [],
   "source": [
    "def get_input(data_loader, k=1):\n",
    "    example = data_loader.large_train.examples[k].text\n",
    "    label = data_loader.large_train.examples[k].label\n",
    "    word_indices = np.array([data_loader.TEXT.vocab.stoi[word] for word in example])\n",
    "    one_input = torch.from_numpy(word_indices)\n",
    "    return one_input.unsqueeze(1), label\n",
    "\n",
    "def get_logit(input_example, model, print_msg=False):\n",
    "    logit = model(input_example)\n",
    "    if print_msg:\n",
    "        print('logit:', logit)\n",
    "        print('pred:', torch.round(torch.sigmoid(logit)))\n",
    "    \n",
    "    return logit\n",
    "\n",
    "def get_predict(logit):\n",
    "    return torch.round(torch.sigmoid(logit))\n",
    "\n",
    "def generate_sentence(words_idx, data_loader):\n",
    "    sentence = ' '.join(data_loader.TEXT.vocab.itos[id] for id in words_idx)\n",
    "    \n",
    "    return sentence"
   ]
  },
  {
   "cell_type": "code",
   "execution_count": 231,
   "metadata": {},
   "outputs": [],
   "source": [
    "def k_nearest_idx(one_embedding, k=10, thershold=15):\n",
    "    embedding_distance = torch.sum((one_embedding - cnn_model.embedding.weight.data) ** 2, dim=1)\n",
    "    embedding_distance = torch.reshape(embedding_distance, (1, len(embedding_distance)))\n",
    "    distances, indices = torch.topk(embedding_distance, k+1, largest=False)\n",
    "    new_indices = []\n",
    "    for i, dis in enumerate(distances[0]):\n",
    "        if dis < 15 and i >= 1:\n",
    "            new_indices.append(indices[0][i])\n",
    "    return new_indices"
   ]
  },
  {
   "cell_type": "code",
   "execution_count": 232,
   "metadata": {},
   "outputs": [],
   "source": [
    "def attack(one_input, model, dis_threshold=10, change_threshold=0.1):\n",
    "    input_embedding = cnn_model.embedding.weight.data[one_input.squeeze(0)].clone()\n",
    "    \n",
    "    initial_logit = get_logit(one_input, model, print_msg=True)\n",
    "    initial_label = get_predict(initial_logit)\n",
    "    new_logit = initial_logit.clone()\n",
    "    change_count = 0\n",
    "    output = one_input.squeeze(0).clone()\n",
    "    for idx, word_embedding in enumerate(input_embedding):\n",
    "        new_indices = k_nearest_idx(word_embedding)\n",
    "        if len(new_indices) > 0:\n",
    "            new_logits = []\n",
    "            for new_index in new_indices:\n",
    "                new_input = output.squeeze(0).clone()\n",
    "                new_input[idx] = new_index\n",
    "                new_logits.append(get_logit(new_input.unsqueeze(0), model))\n",
    "            if initial_label == 0 and max(new_logits) > new_logit:\n",
    "                output[idx] = new_indices[np.asarray(new_logits).argmax()]\n",
    "                change_count += 1\n",
    "            elif initial_label == 1 and min(new_logits) < new_logit:\n",
    "                output[idx] = new_indices[np.asarray(new_logits).argmin()]\n",
    "                change_count += 1\n",
    "        if (change_count / len(input_embedding)) > change_threshold:\n",
    "            return None\n",
    "        new_logit = get_logit(output.unsqueeze(0), model, print_msg=True)\n",
    "        new_label = get_predict(new_logit)\n",
    "        if new_label != initial_label:\n",
    "            return output"
   ]
  },
  {
   "cell_type": "code",
   "execution_count": 233,
   "metadata": {},
   "outputs": [],
   "source": [
    "def generate_sentence(words_idx, data_loader):\n",
    "    sentence = ' '.join(data_loader.TEXT.vocab.itos[id] for id in words_idx)\n",
    "    return sentence"
   ]
  },
  {
   "cell_type": "markdown",
   "metadata": {},
   "source": [
    "### Generate Sample"
   ]
  },
  {
   "cell_type": "code",
   "execution_count": 234,
   "metadata": {},
   "outputs": [],
   "source": [
    "one_input, one_label = get_input(data_loader, k=10)\n",
    "one_input = torch.t(one_input)"
   ]
  },
  {
   "cell_type": "code",
   "execution_count": 230,
   "metadata": {},
   "outputs": [
    {
     "name": "stdout",
     "output_type": "stream",
     "text": [
      "logit: tensor([[10.1673]], grad_fn=<ThAddmmBackward>)\n",
      "pred: tensor([[1.]], grad_fn=<RoundBackward>)\n",
      "logit: tensor([[9.6786]], grad_fn=<ThAddmmBackward>)\n",
      "pred: tensor([[1.]], grad_fn=<RoundBackward>)\n",
      "logit: tensor([[8.3827]], grad_fn=<ThAddmmBackward>)\n",
      "pred: tensor([[1.]], grad_fn=<RoundBackward>)\n",
      "logit: tensor([[7.7780]], grad_fn=<ThAddmmBackward>)\n",
      "pred: tensor([[1.]], grad_fn=<RoundBackward>)\n",
      "logit: tensor([[7.6253]], grad_fn=<ThAddmmBackward>)\n",
      "pred: tensor([[1.]], grad_fn=<RoundBackward>)\n",
      "logit: tensor([[7.5520]], grad_fn=<ThAddmmBackward>)\n",
      "pred: tensor([[1.]], grad_fn=<RoundBackward>)\n",
      "logit: tensor([[7.5520]], grad_fn=<ThAddmmBackward>)\n",
      "pred: tensor([[1.]], grad_fn=<RoundBackward>)\n"
     ]
    }
   ],
   "source": [
    "result = attack(one_input, cnn_model)\n",
    "if result is not None:\n",
    "    print(generate_sentence(result.squeeze(0),data_loader))"
   ]
  },
  {
   "cell_type": "code",
   "execution_count": 192,
   "metadata": {},
   "outputs": [
    {
     "name": "stdout",
     "output_type": "stream",
     "text": [
      "i loved this movie and will watch it again . original twist to plot of man vs man vs self . i think this is kurt russell 's best movie . his eyes conveyed more than most actors words . perhaps there 's hope for mankind in spite of government intervention ?\n"
     ]
    }
   ],
   "source": [
    "print(generate_sentence(one_input.squeeze(0),data_loader))"
   ]
  },
  {
   "cell_type": "code",
   "execution_count": 129,
   "metadata": {},
   "outputs": [
    {
     "data": {
      "text/plain": [
       "'if'"
      ]
     },
     "execution_count": 129,
     "metadata": {},
     "output_type": "execute_result"
    }
   ],
   "source": [
    "data_loader.TEXT.vocab.itos[one_input[0][0]]"
   ]
  },
  {
   "cell_type": "code",
   "execution_count": 139,
   "metadata": {},
   "outputs": [
    {
     "data": {
      "text/plain": [
       "'could'"
      ]
     },
     "execution_count": 139,
     "metadata": {},
     "output_type": "execute_result"
    }
   ],
   "source": [
    "data_loader.TEXT.vocab.itos[90]"
   ]
  },
  {
   "cell_type": "code",
   "execution_count": 132,
   "metadata": {},
   "outputs": [
    {
     "data": {
      "text/plain": [
       "torch.Size([525, 100])"
      ]
     },
     "execution_count": 132,
     "metadata": {},
     "output_type": "execute_result"
    }
   ],
   "source": [
    "input_embedding.shape"
   ]
  },
  {
   "cell_type": "code",
   "execution_count": 235,
   "metadata": {},
   "outputs": [
    {
     "data": {
      "text/plain": [
       "torch.Size([1, 25002])"
      ]
     },
     "execution_count": 235,
     "metadata": {},
     "output_type": "execute_result"
    }
   ],
   "source": [
    "embedding_distance.shape"
   ]
  },
  {
   "cell_type": "markdown",
   "metadata": {},
   "source": [
    "### Validation - sucess rate"
   ]
  },
  {
   "cell_type": "code",
   "execution_count": 244,
   "metadata": {},
   "outputs": [
    {
     "ename": "TypeError",
     "evalue": "'Example' object is not iterable",
     "output_type": "error",
     "traceback": [
      "\u001b[0;31m---------------------------------------------------------------------------\u001b[0m",
      "\u001b[0;31mTypeError\u001b[0m                                 Traceback (most recent call last)",
      "\u001b[0;32m<ipython-input-244-7c606cbedcb5>\u001b[0m in \u001b[0;36m<module>\u001b[0;34m()\u001b[0m\n\u001b[1;32m     10\u001b[0m             \u001b[0msuccess_count\u001b[0m \u001b[0;34m+=\u001b[0m \u001b[0;36m1\u001b[0m\u001b[0;34m\u001b[0m\u001b[0m\n\u001b[1;32m     11\u001b[0m     \u001b[0;32mreturn\u001b[0m \u001b[0msuccess_count\u001b[0m\u001b[0;34m/\u001b[0m\u001b[0mlen\u001b[0m\u001b[0;34m(\u001b[0m\u001b[0mdata_loader\u001b[0m\u001b[0;34m.\u001b[0m\u001b[0mlarge_train\u001b[0m\u001b[0;34m.\u001b[0m\u001b[0mexamples\u001b[0m\u001b[0;34m)\u001b[0m\u001b[0;34m\u001b[0m\u001b[0m\n\u001b[0;32m---> 12\u001b[0;31m \u001b[0mvalidate\u001b[0m\u001b[0;34m(\u001b[0m\u001b[0mdata_loader\u001b[0m\u001b[0;34m)\u001b[0m\u001b[0;34m\u001b[0m\u001b[0m\n\u001b[0m\u001b[1;32m     13\u001b[0m \u001b[0;31m# data_loader.large_train.examples[0]\u001b[0m\u001b[0;34m\u001b[0m\u001b[0;34m\u001b[0m\u001b[0m\n",
      "\u001b[0;32m<ipython-input-244-7c606cbedcb5>\u001b[0m in \u001b[0;36mvalidate\u001b[0;34m(data_loader)\u001b[0m\n\u001b[1;32m      3\u001b[0m     \u001b[0;32mfor\u001b[0m \u001b[0midx\u001b[0m\u001b[0;34m,\u001b[0m \u001b[0mexample\u001b[0m \u001b[0;32min\u001b[0m \u001b[0menumerate\u001b[0m\u001b[0;34m(\u001b[0m\u001b[0mdata_loader\u001b[0m\u001b[0;34m.\u001b[0m\u001b[0mlarge_train\u001b[0m\u001b[0;34m.\u001b[0m\u001b[0mexamples\u001b[0m\u001b[0;34m)\u001b[0m\u001b[0;34m:\u001b[0m\u001b[0;34m\u001b[0m\u001b[0m\n\u001b[1;32m      4\u001b[0m         \u001b[0mlabel\u001b[0m \u001b[0;34m=\u001b[0m \u001b[0mdata_loader\u001b[0m\u001b[0;34m.\u001b[0m\u001b[0mlarge_train\u001b[0m\u001b[0;34m.\u001b[0m\u001b[0mexamples\u001b[0m\u001b[0;34m[\u001b[0m\u001b[0midx\u001b[0m\u001b[0;34m]\u001b[0m\u001b[0;34m.\u001b[0m\u001b[0mlabel\u001b[0m\u001b[0;34m\u001b[0m\u001b[0m\n\u001b[0;32m----> 5\u001b[0;31m         \u001b[0mword_indices\u001b[0m \u001b[0;34m=\u001b[0m \u001b[0mnp\u001b[0m\u001b[0;34m.\u001b[0m\u001b[0marray\u001b[0m\u001b[0;34m(\u001b[0m\u001b[0;34m[\u001b[0m\u001b[0mdata_loader\u001b[0m\u001b[0;34m.\u001b[0m\u001b[0mTEXT\u001b[0m\u001b[0;34m.\u001b[0m\u001b[0mvocab\u001b[0m\u001b[0;34m.\u001b[0m\u001b[0mstoi\u001b[0m\u001b[0;34m[\u001b[0m\u001b[0mword\u001b[0m\u001b[0;34m]\u001b[0m \u001b[0;32mfor\u001b[0m \u001b[0mword\u001b[0m \u001b[0;32min\u001b[0m \u001b[0mexample\u001b[0m\u001b[0;34m]\u001b[0m\u001b[0;34m)\u001b[0m\u001b[0;34m\u001b[0m\u001b[0m\n\u001b[0m\u001b[1;32m      6\u001b[0m         \u001b[0mone_input\u001b[0m \u001b[0;34m=\u001b[0m \u001b[0mtorch\u001b[0m\u001b[0;34m.\u001b[0m\u001b[0mfrom_numpy\u001b[0m\u001b[0;34m(\u001b[0m\u001b[0mword_indices\u001b[0m\u001b[0;34m)\u001b[0m\u001b[0;34m.\u001b[0m\u001b[0munsqueeze\u001b[0m\u001b[0;34m(\u001b[0m\u001b[0;36m1\u001b[0m\u001b[0;34m)\u001b[0m\u001b[0;34m\u001b[0m\u001b[0m\n\u001b[1;32m      7\u001b[0m         \u001b[0mone_input\u001b[0m \u001b[0;34m=\u001b[0m \u001b[0mtorch\u001b[0m\u001b[0;34m.\u001b[0m\u001b[0mt\u001b[0m\u001b[0;34m(\u001b[0m\u001b[0mone_input\u001b[0m\u001b[0;34m)\u001b[0m\u001b[0;34m\u001b[0m\u001b[0m\n",
      "\u001b[0;31mTypeError\u001b[0m: 'Example' object is not iterable"
     ]
    }
   ],
   "source": [
    "def validate(data_loader):\n",
    "    success_count = 0\n",
    "    for idx, example in enumerate(data_loader.large_valid.examples):\n",
    "        label = data_loader.large_train.examples[idx].label\n",
    "        word_indices = np.array([data_loader.TEXT.vocab.stoi[word] for word in example])\n",
    "        one_input = torch.from_numpy(word_indices).unsqueeze(1)\n",
    "        one_input = torch.t(one_input)\n",
    "        result = attack(one_input, cnn_model)\n",
    "        if result is not None:\n",
    "            success_count += 1\n",
    "    return success_count/len(data_loader.large_valid.examples)\n",
    "validate(data_loader)\n",
    "# data_loader.large_train.examples[0]"
   ]
  },
  {
   "cell_type": "code",
   "execution_count": null,
   "metadata": {},
   "outputs": [],
   "source": []
  },
  {
   "cell_type": "code",
   "execution_count": null,
   "metadata": {},
   "outputs": [],
   "source": []
  },
  {
   "cell_type": "code",
   "execution_count": null,
   "metadata": {},
   "outputs": [],
   "source": []
  }
 ],
 "metadata": {
  "kernelspec": {
   "display_name": "Python 3",
   "language": "python",
   "name": "python3"
  },
  "language_info": {
   "codemirror_mode": {
    "name": "ipython",
    "version": 3
   },
   "file_extension": ".py",
   "mimetype": "text/x-python",
   "name": "python",
   "nbconvert_exporter": "python",
   "pygments_lexer": "ipython3",
   "version": "3.6.4"
  }
 },
 "nbformat": 4,
 "nbformat_minor": 2
}
