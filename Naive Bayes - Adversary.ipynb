{
 "cells": [
  {
   "cell_type": "markdown",
   "metadata": {},
   "source": [
    "### Import"
   ]
  },
  {
   "cell_type": "code",
   "execution_count": 1,
   "metadata": {
    "collapsed": false
   },
   "outputs": [],
   "source": [
    "import numpy as np\n",
    "import math\n",
    "import random\n",
    "import pickle\n",
    "import matplotlib.pyplot as plt \n",
    "\n",
    "import torch\n",
    "import torch.nn as nn\n",
    "import torch.optim as optim\n",
    "from torchtext import data\n",
    "from tqdm import tnrange, tqdm_notebook\n",
    "from data_loader import DataLoader\n",
    "\n",
    "from sklearn.naive_bayes import MultinomialNB\n",
    "from sklearn.metrics import confusion_matrix \n",
    "from sklearn.feature_extraction.text import CountVectorizer\n",
    "\n",
    "%load_ext autoreload\n",
    "%autoreload 2"
   ]
  },
  {
   "cell_type": "markdown",
   "metadata": {},
   "source": [
    "### Load Data"
   ]
  },
  {
   "cell_type": "code",
   "execution_count": 2,
   "metadata": {
    "collapsed": false
   },
   "outputs": [
    {
     "name": "stdout",
     "output_type": "stream",
     "text": [
      "building data...\n",
      "saving data at dataset/train_data.pt, dataset/test_data.pt\n",
      "splitting data...\n",
      "building vocabulary...\n"
     ]
    }
   ],
   "source": [
    "data_loader = DataLoader()\n",
    "train, valid = data_loader.large_train_valid()"
   ]
  },
  {
   "cell_type": "code",
   "execution_count": 3,
   "metadata": {
    "collapsed": false
   },
   "outputs": [
    {
     "name": "stdout",
     "output_type": "stream",
     "text": [
      "20000 training examples\n",
      "5000 validation examples\n"
     ]
    }
   ],
   "source": [
    "print('%d training examples' %len(train))\n",
    "print('%d validation examples' %len(valid))"
   ]
  },
  {
   "cell_type": "code",
   "execution_count": 4,
   "metadata": {
    "collapsed": false
   },
   "outputs": [
    {
     "data": {
      "text/plain": [
       "CountVectorizer(analyzer='word', binary=False, decode_error='strict',\n",
       "        dtype=<class 'numpy.int64'>, encoding='utf-8', input='content',\n",
       "        lowercase=True, max_df=1.0, max_features=30000, min_df=1,\n",
       "        ngram_range=(2, 2), preprocessor=None, stop_words=None,\n",
       "        strip_accents=None, token_pattern='(?u)\\\\b\\\\w\\\\w+\\\\b',\n",
       "        tokenizer=None, vocabulary=None)"
      ]
     },
     "execution_count": 4,
     "metadata": {},
     "output_type": "execute_result"
    }
   ],
   "source": [
    "def make_corpus(torchtext_data):\n",
    "    corpus = [' '.join(data.text).replace(\"<br />\",\"\").replace(\"< br />\",\"\") for data in torchtext_data]\n",
    "    return corpus\n",
    "\n",
    "def true_label(data):    \n",
    "    label = [1 if data[i].label[0] == 'pos' else 0 for i in range(len(data))]\n",
    "    return label\n",
    "\n",
    "def corpus_vectorize(corpus, vectorizer):\n",
    "    matrix = vectorizer.transform(corpus)\n",
    "    matrix = matrix.toarray()\n",
    "    return matrix\n",
    "\n",
    "y_train = true_label(train)\n",
    "train_corpus = make_corpus(train)\n",
    "\n",
    "y_valid = true_label(valid)\n",
    "valid_corpus = make_corpus(valid)\n",
    "\n",
    "uni_vectorizer = CountVectorizer(max_features= 30000)\n",
    "uni_vectorizer.fit(train_corpus)\n",
    "\n",
    "bi_vectorizer = CountVectorizer(ngram_range= (2,2), max_features= 30000)\n",
    "bi_vectorizer.fit(train_corpus)"
   ]
  },
  {
   "cell_type": "code",
   "execution_count": 5,
   "metadata": {
    "collapsed": true
   },
   "outputs": [],
   "source": [
    "uni_train = corpus_vectorize(train_corpus, uni_vectorizer)\n",
    "bi_train = corpus_vectorize(train_corpus, bi_vectorizer)"
   ]
  },
  {
   "cell_type": "code",
   "execution_count": 6,
   "metadata": {
    "collapsed": true
   },
   "outputs": [],
   "source": [
    "uni_valid = corpus_vectorize(valid_corpus, uni_vectorizer)\n",
    "bi_valid = corpus_vectorize(valid_corpus, bi_vectorizer)"
   ]
  },
  {
   "cell_type": "markdown",
   "metadata": {},
   "source": [
    "## Naive Bayes - Unigram "
   ]
  },
  {
   "cell_type": "code",
   "execution_count": 7,
   "metadata": {
    "collapsed": false
   },
   "outputs": [
    {
     "name": "stdout",
     "output_type": "stream",
     "text": [
      "unigram - train dataset accuracy 0.88945\n",
      "unigram - valid dataset accuracy 0.8522\n"
     ]
    }
   ],
   "source": [
    "uniNB = MultinomialNB()\n",
    "uniNB.fit(uni_train, y_train)\n",
    "uni_pred = uniNB.predict(uni_valid)\n",
    "uniTrainScore = uniNB.score(uni_train, y_train)\n",
    "uniValidScore = uniNB.score(uni_valid, y_valid)\n",
    "\n",
    "print(\"unigram - train dataset accuracy\", uniTrainScore)\n",
    "print(\"unigram - valid dataset accuracy\", uniValidScore)"
   ]
  },
  {
   "cell_type": "markdown",
   "metadata": {},
   "source": [
    "## Naive Bayes - Bigrams"
   ]
  },
  {
   "cell_type": "code",
   "execution_count": 8,
   "metadata": {
    "collapsed": false
   },
   "outputs": [
    {
     "name": "stdout",
     "output_type": "stream",
     "text": [
      "bigram - train dataset accuracy 0.9115\n",
      "bigram - valid dataset accuracy 0.8752\n"
     ]
    }
   ],
   "source": [
    "biNB = MultinomialNB()\n",
    "biNB.fit(bi_train, y_train)\n",
    "bi_pred = biNB.predict(bi_valid)\n",
    "biTrainScore = biNB.score(bi_train, y_train)\n",
    "biValidScore = biNB.score(bi_valid, y_valid)\n",
    "\n",
    "print(\"bigram - train dataset accuracy\", biTrainScore)\n",
    "print(\"bigram - valid dataset accuracy\", biValidScore)"
   ]
  },
  {
   "cell_type": "markdown",
   "metadata": {},
   "source": [
    "## Adversary - Swap Word (blackbox)"
   ]
  },
  {
   "cell_type": "code",
   "execution_count": 9,
   "metadata": {
    "collapsed": true
   },
   "outputs": [],
   "source": [
    "# Because we perform one swap per word, but do not alter the first or last letters.\n",
    "# This noise is only applied to words of length > 3.\n",
    "# noise -> niose\n",
    "\n",
    "def swap(word):\n",
    "    rand = random.randint(1,len(word)-3)\n",
    "    return word[:rand] +  word[rand:rand+2][::-1] + word[rand+2:]\n",
    "\n",
    "def adversary_swap(adversary_data, propotion):\n",
    "    \"\"\"\n",
    "    Randomly swap characters in words in text, parameter 'propotion' decides how many words are swapped\n",
    "    e.g. noise -> niose \n",
    "    \"\"\"\n",
    "    for i in range(len(adversary_data)):\n",
    "        rand_sample = random.sample(np.arange(0, len(adversary_data[i].text)).tolist(), int(len(adversary_data[i].text)*propotion))\n",
    "        for pick in rand_sample:\n",
    "            if len(adversary_data[i].text[pick]) > 3:\n",
    "                # print(adversary_data[i].text[pick], \"->\", swap(adversary_data[i].text[pick]))\n",
    "                adversary_data[i].text[pick] = swap(adversary_data[i].text[pick])\n",
    "        # print(\" \")\n",
    "        # print(i, \"SWAP END\")\n",
    "        # print(\" \")\n",
    "        \n",
    "    return adversary_data"
   ]
  },
  {
   "cell_type": "code",
   "execution_count": 10,
   "metadata": {
    "collapsed": false
   },
   "outputs": [
    {
     "name": "stdout",
     "output_type": "stream",
     "text": [
      "splitting data...\n",
      "building vocabulary...\n"
     ]
    }
   ],
   "source": [
    "train_cv, valid_cv = data_loader.small_train_valid()\n",
    "y_valid_cv = true_label(valid_cv)"
   ]
  },
  {
   "cell_type": "code",
   "execution_count": 11,
   "metadata": {
    "collapsed": true
   },
   "outputs": [],
   "source": [
    "def swap_accuracy(proportion):\n",
    "    \"\"\"\n",
    "    to decide what propotion of words to be swapped    \n",
    "    \"\"\"\n",
    "    with open('./dataset/test.pickle', 'rb') as handle:\n",
    "        test = pickle.load(handle)\n",
    "\n",
    "    adv = adversary_swap(test, proportion)\n",
    "    adv_corpus = make_corpus(adv)\n",
    "    uni_adv = corpus_vectorize(adv_corpus, uni_vectorizer)\n",
    "    bi_adv = corpus_vectorize(adv_corpus, bi_vectorizer)\n",
    "    \n",
    "    uni_score = uniNB.score(uni_adv, y_valid_cv)\n",
    "    bi_score = biNB.score(bi_adv, y_valid_cv)\n",
    "\n",
    "    return uni_score, bi_score "
   ]
  },
  {
   "cell_type": "code",
   "execution_count": 58,
   "metadata": {
    "collapsed": false
   },
   "outputs": [],
   "source": [
    "swap_rate = [0, 0.1, 0.2, 0.3, 0.4, 0.5, 0.6, 0.7, 0.8, 0.9, 1]\n",
    "\n",
    "uni_list = []\n",
    "bi_list = []\n",
    "\n",
    "for i in swap_rate:\n",
    "    u, b = swap_accuracy(i)\n",
    "    uni_list.append(u)\n",
    "    bi_list.append(b)"
   ]
  },
  {
   "cell_type": "code",
   "execution_count": 59,
   "metadata": {
    "collapsed": false
   },
   "outputs": [
    {
     "data": {
      "image/png": "[encoded data removed]",
      "text/plain": [
       "<Figure size 432x288 with 1 Axes>"
      ]
     },
     "metadata": {},
     "output_type": "display_data"
    }
   ],
   "source": [
    "plt.plot(swap_rate, uni_list, label = \"uniNB\")\n",
    "plt.plot(swap_rate, bi_list, label = \"biNB\")\n",
    "\n",
    "plt.title(\"Swapped Rate vs. Model Accuracy\")\n",
    "plt.xlabel(\"Sentence change proportion\")\n",
    "plt.ylabel(\"Accuracy\")\n",
    "\n",
    "plt.legend()\n",
    "plt.show()"
   ]
  },
  {
   "cell_type": "code",
   "execution_count": 52,
   "metadata": {
    "collapsed": false
   },
   "outputs": [],
   "source": [
    "with open('adv.pickle', 'rb') as handle:\n",
    "    adv = pickle.load(handle)\n",
    "    \n",
    "adversary = adversary_swap(adv, 0.5)\n",
    "adv_corpus = make_corpus(adversary)\n",
    "uni_adv = corpus_vectorize(adv_corpus, uni_vectorizer)\n",
    "bi_adv = corpus_vectorize(adv_corpus, bi_vectorizer)"
   ]
  },
  {
   "cell_type": "code",
   "execution_count": 53,
   "metadata": {
    "collapsed": true
   },
   "outputs": [],
   "source": [
    "uni_adv_pred = uniNB.predict(uni_adv)\n",
    "bi_adv_pred = biNB.predict(bi_adv)"
   ]
  },
  {
   "cell_type": "markdown",
   "metadata": {},
   "source": [
    "### Result"
   ]
  },
  {
   "cell_type": "code",
   "execution_count": 54,
   "metadata": {
    "collapsed": false
   },
   "outputs": [
    {
     "name": "stdout",
     "output_type": "stream",
     "text": [
      "unigram - valid dataset accuracy 0.8522\n",
      "unigram - adversary dataset accuracy 0.8302\n",
      "accuracy decrease after attack -0.022\n",
      "\n",
      "bigram - valid dataset accuracy 0.8752\n",
      "bigram - adversary dataset accuracy 0.8406\n",
      "accuracy decrease after attack -0.035\n"
     ]
    }
   ],
   "source": [
    "print(\"unigram - valid dataset accuracy\", uniNB.score(uni_valid, y_valid))\n",
    "print(\"unigram - adversary dataset accuracy\", uniNB.score(uni_adv, y_valid))\n",
    "print(\"accuracy decrease after attack {:.3f}\".format(uniNB.score(uni_adv, y_valid)- uniNB.score(uni_valid, y_valid)) )\n",
    "\n",
    "print(\"\")\n",
    "print(\"bigram - valid dataset accuracy\", biNB.score(bi_valid, y_valid))\n",
    "print(\"bigram - adversary dataset accuracy\", biNB.score(bi_adv, y_valid))\n",
    "print(\"accuracy decrease after attack {:.3f}\".format(biNB.score(bi_adv, y_valid) - biNB.score(bi_valid, y_valid)))"
   ]
  },
  {
   "cell_type": "code",
   "execution_count": 55,
   "metadata": {
    "collapsed": false
   },
   "outputs": [],
   "source": [
    "def success_rate(valid_pred, adv_pred):\n",
    "    correct_id = []\n",
    "    ct = 0\n",
    "    for i in range(len(y_valid)):\n",
    "        if valid_pred[i] == y_valid[i] and valid_pred[i] != adv_pred[i]:\n",
    "            ct += 1\n",
    "            \n",
    "    fliprate = ct/len(y_valid)\n",
    "    \n",
    "    return fliprate\n"
   ]
  },
  {
   "cell_type": "code",
   "execution_count": 56,
   "metadata": {
    "collapsed": false
   },
   "outputs": [
    {
     "data": {
      "text/plain": [
       "0.0418"
      ]
     },
     "execution_count": 56,
     "metadata": {},
     "output_type": "execute_result"
    }
   ],
   "source": [
    "success_rate(uni_pred, uni_adv_pred)"
   ]
  },
  {
   "cell_type": "code",
   "execution_count": 57,
   "metadata": {
    "collapsed": false
   },
   "outputs": [
    {
     "data": {
      "text/plain": [
       "0.058"
      ]
     },
     "execution_count": 57,
     "metadata": {},
     "output_type": "execute_result"
    }
   ],
   "source": [
    "success_rate(bi_pred, bi_adv_pred)"
   ]
  },
  {
   "cell_type": "markdown",
   "metadata": {},
   "source": [
    "## Adversary - greedy (whitebox)"
   ]
  },
  {
   "cell_type": "code",
   "execution_count": 23,
   "metadata": {
    "collapsed": false
   },
   "outputs": [],
   "source": [
    "with open('greedy-examples.pkl', 'rb') as handle:\n",
    "    greedy = pickle.load(handle)\n",
    "\n",
    "greedy_index = []\n",
    "greedy_sentiment = []\n",
    "greedy_text = []\n",
    "    \n",
    "global greedy_index\n",
    "global greedy_sentiment\n",
    "global greedy_text\n",
    "\n",
    "for (idx, sen, text) in greedy:\n",
    "    greedy_text.append(text)\n",
    "    greedy_index.append(idx)\n",
    "    if sen[0] == 'pos':\n",
    "        greedy_sentiment.append(1)\n",
    "    else:\n",
    "        greedy_sentiment.append(0)"
   ]
  },
  {
   "cell_type": "code",
   "execution_count": 39,
   "metadata": {
    "collapsed": true
   },
   "outputs": [],
   "source": [
    "def flip_rate(pred_model, pred_label, vectorizer):\n",
    " \n",
    "    correct_id = []\n",
    "\n",
    "    for i in range(len(greedy_text)):\n",
    "        if pred_label[greedy_index[i]] == y_valid[greedy_index[i]]:\n",
    "            correct_id.append(i)\n",
    "    print(len(correct_id))\n",
    "    \n",
    "    greedy_corpus = corpus_vectorize(greedy_text, vectorizer)\n",
    "    greedy_pred = pred_model.predict(greedy_corpus)\n",
    "    \n",
    "    ct = 0\n",
    "    for i in correct_id:\n",
    "        if greedy_pred[i] != greedy_sentiment[i]:\n",
    "            ct += 1\n",
    "    \n",
    "    fliprate = ct/len(correct_id)\n",
    "    \n",
    "    return fliprate\n"
   ]
  },
  {
   "cell_type": "code",
   "execution_count": 40,
   "metadata": {
    "collapsed": false
   },
   "outputs": [
    {
     "name": "stdout",
     "output_type": "stream",
     "text": [
      "442\n"
     ]
    },
    {
     "data": {
      "text/plain": [
       "0.083710407239819"
      ]
     },
     "execution_count": 40,
     "metadata": {},
     "output_type": "execute_result"
    }
   ],
   "source": [
    "flip_rate(uniNB, uni_pred, uni_vectorizer)"
   ]
  },
  {
   "cell_type": "code",
   "execution_count": 41,
   "metadata": {
    "collapsed": false
   },
   "outputs": [
    {
     "name": "stdout",
     "output_type": "stream",
     "text": [
      "454\n"
     ]
    },
    {
     "data": {
      "text/plain": [
       "0.046255506607929514"
      ]
     },
     "execution_count": 41,
     "metadata": {},
     "output_type": "execute_result"
    }
   ],
   "source": [
    "flip_rate(biNB, bi_pred, bi_vectorizer)"
   ]
  },
  {
   "cell_type": "markdown",
   "metadata": {},
   "source": [
    "### Save"
   ]
  },
  {
   "cell_type": "code",
   "execution_count": null,
   "metadata": {
    "collapsed": true
   },
   "outputs": [],
   "source": [
    "\n",
    "# save model \n",
    "filename = 'uniNB_model.sav'\n",
    "pickle.dump(uniNB, open(filename, 'wb'))\n",
    "\n",
    "filename = 'biNB_model.sav'\n",
    "pickle.dump(biNB, open(filename, 'wb'))"
   ]
  },
  {
   "cell_type": "code",
   "execution_count": null,
   "metadata": {
    "collapsed": false
   },
   "outputs": [],
   "source": [
    "# load model\n",
    "uniNB = pickle.load(open('./uniNB_model.sav', 'rb'))\n",
    "biNB = pickle.load(open('./biNB_model.sav', 'rb'))"
   ]
  },
  {
   "cell_type": "code",
   "execution_count": null,
   "metadata": {
    "collapsed": false
   },
   "outputs": [],
   "source": [
    "# save test data\n",
    "for data in valid:\n",
    "    print(data)\n",
    "    break"
   ]
  },
  {
   "cell_type": "code",
   "execution_count": null,
   "metadata": {
    "collapsed": true
   },
   "outputs": [],
   "source": [
    "raw_X = [data for data in valid]\n",
    "with open('test.pickle', 'wb') as handle:\n",
    "    pickle.dump(raw_X, handle)"
   ]
  },
  {
   "cell_type": "code",
   "execution_count": null,
   "metadata": {
    "collapsed": true
   },
   "outputs": [],
   "source": [
    "raw_X = [data for data in valid]\n",
    "with open('adv.pickle', 'wb') as handle:\n",
    "    pickle.dump(raw_X, handle)"
   ]
  },
  {
   "cell_type": "code",
   "execution_count": null,
   "metadata": {
    "collapsed": true
   },
   "outputs": [],
   "source": []
  }
 ],
 "metadata": {
  "kernelspec": {
   "display_name": "Python 3",
   "language": "python",
   "name": "python3"
  },
  "language_info": {
   "codemirror_mode": {
    "name": "ipython",
    "version": 3
   },
   "file_extension": ".py",
   "mimetype": "text/x-python",
   "name": "python",
   "nbconvert_exporter": "python",
   "pygments_lexer": "ipython3",
   "version": "3.6.6"
  }
 },
 "nbformat": 4,
 "nbformat_minor": 2
}
