{
 "cells": [
  {
   "cell_type": "markdown",
   "metadata": {},
   "source": [
    "### Import"
   ]
  },
  {
   "cell_type": "code",
   "execution_count": 3,
   "metadata": {
    "collapsed": false
   },
   "outputs": [
    {
     "name": "stdout",
     "output_type": "stream",
     "text": [
      "The autoreload extension is already loaded. To reload it, use:\n",
      "  %reload_ext autoreload\n"
     ]
    }
   ],
   "source": [
    "import numpy as np\n",
    "import math\n",
    "import random\n",
    "\n",
    "import torch\n",
    "import torch.nn as nn\n",
    "import torch.optim as optim\n",
    "from torchtext import data\n",
    "from tqdm import tnrange, tqdm_notebook\n",
    "from collections import Counter\n",
    "from data_loader import DataLoader\n",
    "\n",
    "from sklearn.naive_bayes import MultinomialNB\n",
    "from sklearn.metrics import confusion_matrix \n",
    "import pickle\n",
    "\n",
    "\n",
    "%load_ext autoreload\n",
    "%autoreload 2\n"
   ]
  },
  {
   "cell_type": "markdown",
   "metadata": {},
   "source": [
    "### Load Data"
   ]
  },
  {
   "cell_type": "code",
   "execution_count": 27,
   "metadata": {
    "collapsed": false
   },
   "outputs": [
    {
     "name": "stdout",
     "output_type": "stream",
     "text": [
      "loading data...\n",
      "splitting data...\n",
      "building vocabulary...\n",
      "splitting data...\n",
      "building vocabulary...\n"
     ]
    }
   ],
   "source": [
    "data_loader = DataLoader()\n",
    "train, valid = data_loader.small_train_valid()\n",
    "train, adversary = data_loader.small_train_valid()"
   ]
  },
  {
   "cell_type": "code",
   "execution_count": 17,
   "metadata": {
    "collapsed": false
   },
   "outputs": [
    {
     "name": "stdout",
     "output_type": "stream",
     "text": [
      "1250 training examples\n",
      "1250 validation examples\n"
     ]
    }
   ],
   "source": [
    "print('%d training examples' %len(train))\n",
    "print('%d validation examples' %len(valid))\n"
   ]
  },
  {
   "cell_type": "markdown",
   "metadata": {
    "collapsed": true
   },
   "source": [
    "## Naive Bayes - Unigram "
   ]
  },
  {
   "cell_type": "code",
   "execution_count": 21,
   "metadata": {
    "collapsed": false
   },
   "outputs": [],
   "source": [
    "def build_dictionary(data, size):\n",
    "    \"\"\"\n",
    "    Build word count dictionary from training data.\n",
    "    Return the most common words list () based on input size \n",
    "    e.g. [('the', 15969), ('and', 8108), ('is', 5359)...], return type: list\n",
    "    \n",
    "    \"\"\"\n",
    "    dictionary = Counter()\n",
    "\n",
    "    for i in range(len(data)):\n",
    "        for word in data[i].text:\n",
    "            dictionary[word] += 1\n",
    "        \n",
    "    return dictionary.most_common(size)"
   ]
  },
  {
   "cell_type": "code",
   "execution_count": 22,
   "metadata": {
    "collapsed": true
   },
   "outputs": [],
   "source": [
    "def extract_features(data, dictionary):\n",
    "    \n",
    "    \"\"\"\n",
    "    Build word count dictionary from training data.\n",
    "    Return the most common words based on input size \n",
    "    \"\"\"\n",
    "    \n",
    "    docID = 0\n",
    "    features_matrix = np.zeros((len(data),len(dictionary)))\n",
    "    label = []\n",
    "\n",
    "    for i in range(len(data)):\n",
    "        if data[i].label == ['pos']:\n",
    "            label.append(1)\n",
    "        else:\n",
    "            label.append(0)\n",
    "        \n",
    "        for idx, d in enumerate(dictionary):\n",
    "            wordID = idx\n",
    "            features_matrix[docID, wordID] += data[i].text.count(d[0])\n",
    "        docID = docID + 1\n",
    "        \n",
    "    return features_matrix, np.array(label)\n"
   ]
  },
  {
   "cell_type": "code",
   "execution_count": 41,
   "metadata": {
    "collapsed": false
   },
   "outputs": [],
   "source": [
    "uniNBdict = build_dictionary(train, 30000)"
   ]
  },
  {
   "cell_type": "code",
   "execution_count": 42,
   "metadata": {
    "collapsed": false
   },
   "outputs": [],
   "source": [
    "train_x, train_y = extract_features(train, uniNBdict)\n",
    "test_x, test_y = extract_features(valid, uniNBdict)"
   ]
  },
  {
   "cell_type": "code",
   "execution_count": 43,
   "metadata": {
    "collapsed": false
   },
   "outputs": [
    {
     "name": "stdout",
     "output_type": "stream",
     "text": [
      "unigram - train dataset accuracy 0.9792\n",
      "unigram - valid dataset accuracy 0.7936\n"
     ]
    }
   ],
   "source": [
    "uniNB = MultinomialNB()\n",
    "uniNB.fit(train_x, train_y)\n",
    "\n",
    "print(\"unigram - train dataset accuracy\", uniNB.score(train_x, train_y))\n",
    "print(\"unigram - valid dataset accuracy\", uniNB.score(test_x, test_y))\n"
   ]
  },
  {
   "cell_type": "code",
   "execution_count": 44,
   "metadata": {
    "collapsed": false
   },
   "outputs": [
    {
     "name": "stdout",
     "output_type": "stream",
     "text": [
      "[[549  68]\n",
      " [190 443]]\n"
     ]
    }
   ],
   "source": [
    "print(confusion_matrix(test_y, uniNB.predict(test_x)))"
   ]
  },
  {
   "cell_type": "markdown",
   "metadata": {},
   "source": [
    "## Naive Bayes - Bigrams"
   ]
  },
  {
   "cell_type": "code",
   "execution_count": 28,
   "metadata": {
    "collapsed": false
   },
   "outputs": [],
   "source": [
    "def bi_dictionary(data, size):\n",
    "    \n",
    "    \"\"\"\n",
    "    Build bigram count dictionary from training data.\n",
    "    Return the most common words list () based on input size \n",
    "    e.g. [('of the', 1856), ('. STOP', 880), ('this movie', 753)...], return type: list\n",
    "    \n",
    "    \"\"\"\n",
    "    \n",
    "    dictionary = Counter()\n",
    "\n",
    "    for i in range(len(data)):\n",
    "        \n",
    "        bidata = data[i].text.copy()\n",
    "        bidata.insert(0,\"START\")\n",
    "        bidata.append(\"STOP\")\n",
    "        \n",
    "        for j in range(len(bidata)-1):  \n",
    "            bigrams = str(bidata[j]) + \" \" + str(bidata[j+1])\n",
    "            dictionary[bigrams] += 1\n",
    "    \n",
    "    return dictionary.most_common(size)\n"
   ]
  },
  {
   "cell_type": "code",
   "execution_count": 29,
   "metadata": {
    "collapsed": true
   },
   "outputs": [],
   "source": [
    "def build_dict(text):\n",
    "    \n",
    "    \"\"\"\n",
    "    Build bigram count dictionary from text.\n",
    "    e.g. {'the story': 1, 'thinking and': 1, 'this movie': 2 ... }, return type: dictionary\n",
    "    \"\"\"\n",
    "    bi_dict = Counter()\n",
    "    \n",
    "    bitext = text.copy()\n",
    "    bitext.insert(0,\"START\")\n",
    "    bitext.append(\"STOP\")\n",
    "    \n",
    "    for i in range(len(bitext) -1 ):\n",
    "        bigrams = str(bitext[i]) + \" \" + str(bitext[i+1])\n",
    "        bi_dict[bigrams] += 1\n",
    "    \n",
    "    return bi_dict"
   ]
  },
  {
   "cell_type": "code",
   "execution_count": 30,
   "metadata": {
    "collapsed": true
   },
   "outputs": [],
   "source": [
    "def bi_extract_features(data, dictionary):\n",
    "\n",
    "    docID = 0\n",
    "    features_matrix = np.zeros((len(data),len(dictionary)))\n",
    "    label = []\n",
    "\n",
    "    for i in range(len(data)):\n",
    "        \n",
    "        if data[i].label == ['pos']:\n",
    "            label.append(1)\n",
    "        else:\n",
    "            label.append(0)\n",
    "            \n",
    "        bi_dict = {}\n",
    "        bi_dict = build_dict(data[i].text)\n",
    "        \n",
    "        for idx, d in enumerate(dictionary):\n",
    "            wordID = idx\n",
    "            if d[0] in bi_dict:\n",
    "                features_matrix[docID, wordID] += bi_dict[d[0]]\n",
    "        docID = docID + 1\n",
    "        \n",
    "    return features_matrix, np.array(label)"
   ]
  },
  {
   "cell_type": "code",
   "execution_count": 45,
   "metadata": {
    "collapsed": false
   },
   "outputs": [],
   "source": [
    "biNB_dict = bi_dictionary(train, 30000)"
   ]
  },
  {
   "cell_type": "code",
   "execution_count": 46,
   "metadata": {
    "collapsed": false
   },
   "outputs": [],
   "source": [
    "train_x_bi, train_y_bi = bi_extract_features(train, biNB_dict)\n",
    "test_x_bi, test_y_bi = bi_extract_features(valid, biNB_dict)"
   ]
  },
  {
   "cell_type": "code",
   "execution_count": 47,
   "metadata": {
    "collapsed": false
   },
   "outputs": [
    {
     "name": "stdout",
     "output_type": "stream",
     "text": [
      "bigram - train dataset accuracy 0.9952\n",
      "bigram - valid dataset accuracy 0.8168\n"
     ]
    }
   ],
   "source": [
    "biNB = MultinomialNB()\n",
    "biNB.fit(train_x_bi, train_y_bi)\n",
    "print(\"bigram - train dataset accuracy\", biNB.score(train_x_bi, train_y_bi))\n",
    "print(\"bigram - valid dataset accuracy\", biNB.score(test_x_bi, test_y_bi))"
   ]
  },
  {
   "cell_type": "code",
   "execution_count": 48,
   "metadata": {
    "collapsed": false
   },
   "outputs": [
    {
     "name": "stdout",
     "output_type": "stream",
     "text": [
      "[[528  89]\n",
      " [140 493]]\n"
     ]
    }
   ],
   "source": [
    "print(confusion_matrix(test_y_bi, biNB.predict(test_x_bi)))"
   ]
  },
  {
   "cell_type": "markdown",
   "metadata": {},
   "source": [
    "## Adversary - swap word (black box)"
   ]
  },
  {
   "cell_type": "code",
   "execution_count": 52,
   "metadata": {
    "collapsed": true
   },
   "outputs": [],
   "source": [
    "# Because we perform one swap per word, but do not alter the first or last letters.\n",
    "# This noise is only applied to words of length > 3.\n",
    "# noise -> niose\n",
    "\n",
    "def swap(word):\n",
    "    rand = random.randint(1,len(word)-3)\n",
    "    return word[:rand] +  word[rand:rand+2][::-1] + word[rand+2:]\n",
    "\n",
    "def adversary_swap(adversary_data, propotion):\n",
    "    \"\"\"\n",
    "    Randomly swap characters in words in text, parameter 'propotion' decides how many words are s\n",
    "    e.g. noise -> niose \n",
    "    \"\"\"\n",
    "    for i in range(len(adversary_data)):\n",
    "        rand_sample = random.sample(np.arange(0, len(adversary_data[i].text)).tolist(), int(len(adversary_data[i].text)*propotion))\n",
    "        for pick in rand_sample:\n",
    "            if len(adversary_data[i].text[pick]) > 3:\n",
    "                #print(adversary_data[i].text[pick], \"->\", swap(adversary_data[i].text[pick]))\n",
    "                adversary_data[i].text[pick] = swap(adversary_data[i].text[pick])\n",
    "        #print(\" \")\n",
    "        #print(i, \"SWAP END\")\n",
    "        #print(\" \")\n",
    "        \n",
    "    return adversary_data\n"
   ]
  },
  {
   "cell_type": "code",
   "execution_count": 53,
   "metadata": {
    "collapsed": true
   },
   "outputs": [],
   "source": [
    "adversary_2 = adversary_swap(adversary, 0.8)"
   ]
  },
  {
   "cell_type": "markdown",
   "metadata": {},
   "source": [
    "### Adversary - Unigram Naive Bayes"
   ]
  },
  {
   "cell_type": "code",
   "execution_count": 57,
   "metadata": {
    "collapsed": false
   },
   "outputs": [
    {
     "name": "stdout",
     "output_type": "stream",
     "text": [
      "unigram - adversary dataset accuracy 0.7264\n",
      "[[549  68]\n",
      " [190 443]]\n",
      "[[539  78]\n",
      " [264 369]]\n"
     ]
    }
   ],
   "source": [
    "adver_x_uni, adver_y_uni = extract_features(adversary_2, dict_10k)\n",
    "print(\"unigram - adversary dataset accuracy\", uniNB.score(adver_x_uni, adver_y_uni))\n",
    "print(confusion_matrix(test_y, uniNB.predict(test_x)))\n",
    "print(confusion_matrix(adver_y_uni, uniNB.predict(adver_x_uni)))\n"
   ]
  },
  {
   "cell_type": "markdown",
   "metadata": {},
   "source": [
    "### Adversary - Bigram Naive Bayes"
   ]
  },
  {
   "cell_type": "code",
   "execution_count": 14,
   "metadata": {
    "collapsed": true
   },
   "outputs": [],
   "source": [
    "adver_x_bi, adver_y_bi = bi_extract_features(adversary_2, bi_dict_10k)"
   ]
  },
  {
   "cell_type": "code",
   "execution_count": 55,
   "metadata": {
    "collapsed": false
   },
   "outputs": [
    {
     "name": "stdout",
     "output_type": "stream",
     "text": [
      "bigram - adversary dataset accuracy 0.7392\n"
     ]
    }
   ],
   "source": [
    "print(\"bigram - adversary dataset accuracy\", biNB.score(adver_x_bi, adver_y_bi))"
   ]
  },
  {
   "cell_type": "code",
   "execution_count": 56,
   "metadata": {
    "collapsed": false
   },
   "outputs": [
    {
     "name": "stdout",
     "output_type": "stream",
     "text": [
      "[[453 164]\n",
      " [162 471]]\n"
     ]
    }
   ],
   "source": [
    "print(confusion_matrix(adver_y_bi, biNB.predict(adver_x_bi)))"
   ]
  },
  {
   "cell_type": "code",
   "execution_count": null,
   "metadata": {
    "collapsed": false
   },
   "outputs": [],
   "source": []
  },
  {
   "cell_type": "code",
   "execution_count": 49,
   "metadata": {
    "collapsed": true
   },
   "outputs": [],
   "source": [
    "# save model\n",
    "filename = 'uniNB_model.sav'\n",
    "pickle.dump(uniNB, open(filename, 'wb'))\n",
    "  "
   ]
  },
  {
   "cell_type": "code",
   "execution_count": 50,
   "metadata": {
    "collapsed": true
   },
   "outputs": [],
   "source": [
    "filename = 'biNB_model.sav'\n",
    "pickle.dump(biNB, open(filename, 'wb'))"
   ]
  },
  {
   "cell_type": "code",
   "execution_count": 54,
   "metadata": {
    "collapsed": true
   },
   "outputs": [],
   "source": [
    "# load the model\n",
    "\n",
    "uniNB = pickle.load(open('uniNB_model.sav', 'rb'))\n",
    "biNB = pickle.load(open('biNB_model.sav', 'rb'))\n",
    "\n"
   ]
  },
  {
   "cell_type": "code",
   "execution_count": null,
   "metadata": {
    "collapsed": true
   },
   "outputs": [],
   "source": [
    "len(data_loader.TEXT.vocab.itos)\n",
    "pretrained_embeddings = data_loader.TEXT.vocab.vectors\n",
    "len(pretrained_embeddings)"
   ]
  }
 ],
 "metadata": {
  "kernelspec": {
   "display_name": "Python 3",
   "language": "python",
   "name": "python3"
  },
  "language_info": {
   "codemirror_mode": {
    "name": "ipython",
    "version": 3
   },
   "file_extension": ".py",
   "mimetype": "text/x-python",
   "name": "python",
   "nbconvert_exporter": "python",
   "pygments_lexer": "ipython3",
   "version": "3.6.6"
  }
 },
 "nbformat": 4,
 "nbformat_minor": 2
}
