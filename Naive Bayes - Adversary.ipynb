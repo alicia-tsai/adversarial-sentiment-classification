{
 "cells": [
  {
   "cell_type": "markdown",
   "metadata": {},
   "source": [
    "### Import"
   ]
  },
  {
   "cell_type": "code",
   "execution_count": 1,
   "metadata": {
    "collapsed": false
   },
   "outputs": [],
   "source": [
    "import numpy as np\n",
    "import math\n",
    "import random\n",
    "\n",
    "import torch\n",
    "import torch.nn as nn\n",
    "import torch.optim as optim\n",
    "from torchtext import data\n",
    "from tqdm import tnrange, tqdm_notebook\n",
    "from data_loader import DataLoader\n",
    "\n",
    "from sklearn.naive_bayes import MultinomialNB\n",
    "from sklearn.metrics import confusion_matrix \n",
    "import pickle\n",
    "\n",
    "from sklearn.feature_extraction.text import CountVectorizer\n",
    "\n",
    "%load_ext autoreload\n",
    "%autoreload 2\n"
   ]
  },
  {
   "cell_type": "markdown",
   "metadata": {},
   "source": [
    "### Load Data"
   ]
  },
  {
   "cell_type": "code",
   "execution_count": 2,
   "metadata": {
    "collapsed": false
   },
   "outputs": [
    {
     "name": "stderr",
     "output_type": "stream",
     "text": [
      "\r",
      "aclImdb_v1.tar.gz:   0%|          | 0.00/84.1M [00:00<?, ?B/s]"
     ]
    },
    {
     "name": "stdout",
     "output_type": "stream",
     "text": [
      "building data...\n",
      "downloading aclImdb_v1.tar.gz\n"
     ]
    },
    {
     "name": "stderr",
     "output_type": "stream",
     "text": [
      "aclImdb_v1.tar.gz: 100%|██████████| 84.1M/84.1M [00:09<00:00, 8.77MB/s]\n"
     ]
    },
    {
     "name": "stdout",
     "output_type": "stream",
     "text": [
      "saving data at dataset/train_data.pt, dataset/test_data.pt\n"
     ]
    },
    {
     "name": "stderr",
     "output_type": "stream",
     "text": [
      "\r",
      ".vector_cache/glove.6B.zip: 0.00B [00:00, ?B/s]"
     ]
    },
    {
     "name": "stdout",
     "output_type": "stream",
     "text": [
      "splitting data...\n",
      "building vocabulary...\n"
     ]
    },
    {
     "name": "stderr",
     "output_type": "stream",
     "text": [
      ".vector_cache/glove.6B.zip: 862MB [01:39, 8.63MB/s]                              \n",
      "100%|█████████▉| 398165/400000 [00:20<00:00, 19473.86it/s]"
     ]
    }
   ],
   "source": [
    "data_loader = DataLoader()\n",
    "train, valid = data_loader.small_train_valid()"
   ]
  },
  {
   "cell_type": "code",
   "execution_count": 3,
   "metadata": {
    "collapsed": false
   },
   "outputs": [
    {
     "name": "stdout",
     "output_type": "stream",
     "text": [
      "1250 training examples\n",
      "1250 validation examples\n"
     ]
    }
   ],
   "source": [
    "print('%d training examples' %len(train))\n",
    "print('%d validation examples' %len(valid))"
   ]
  },
  {
   "cell_type": "code",
   "execution_count": 4,
   "metadata": {
    "collapsed": true
   },
   "outputs": [],
   "source": [
    "def make_corpus(torchtext_data):\n",
    "    corpus = [' '.join(data.text).replace(\"<br />\",\"\").replace(\"< br />\",\"\") for data in torchtext_data]\n",
    "    return corpus\n",
    "\n",
    "def corpus_vectorize(train_corpus, vectorizer, valid_corpus):\n",
    "    \n",
    "    train_matrix = vectorizer.fit(train_corpus)\n",
    "    train_matrix = vectorizer.transform(train_corpus)\n",
    "    train_matrix = train_matrix.toarray()\n",
    "    \n",
    "    valid_matrix = vectorizer.transform(valid_corpus)\n",
    "    valid_matrix = valid_matrix.toarray()\n",
    "   \n",
    "    return train_matrix, valid_matrix\n",
    "\n",
    "def true_label(data):    \n",
    "    label = [1 if data[i].label[0] == 'pos' else 0 for i in range(len(data))]\n",
    "    return label"
   ]
  },
  {
   "cell_type": "code",
   "execution_count": 5,
   "metadata": {
    "collapsed": true
   },
   "outputs": [],
   "source": [
    "y_train = true_label(train)\n",
    "y_valid = true_label(valid)\n",
    "\n",
    "train_corpus = make_corpus(train)\n",
    "valid_corpus = make_corpus(valid)\n",
    "\n",
    "uni_vectorizer = CountVectorizer(max_features= 20000)\n",
    "bi_vectorizer = CountVectorizer(ngram_range= (2,2), max_features= 20000)"
   ]
  },
  {
   "cell_type": "markdown",
   "metadata": {},
   "source": [
    "## Naive Bayes - Unigram "
   ]
  },
  {
   "cell_type": "code",
   "execution_count": 6,
   "metadata": {
    "collapsed": false
   },
   "outputs": [
    {
     "name": "stdout",
     "output_type": "stream",
     "text": [
      "unigram - train dataset accuracy 0.9776\n",
      "unigram - valid dataset accuracy 0.7984\n"
     ]
    }
   ],
   "source": [
    "uni_train, uni_valid = corpus_vectorize(train_corpus, uni_vectorizer, valid_corpus)\n",
    "uniNB = MultinomialNB()\n",
    "uniNB.fit(uni_train, y_train)\n",
    "print(\"unigram - train dataset accuracy\", uniNB.score(uni_train, y_train))\n",
    "print(\"unigram - valid dataset accuracy\", uniNB.score(uni_valid, y_valid))"
   ]
  },
  {
   "cell_type": "markdown",
   "metadata": {},
   "source": [
    "## Naive Bayes - Bigrams"
   ]
  },
  {
   "cell_type": "code",
   "execution_count": 7,
   "metadata": {
    "collapsed": false
   },
   "outputs": [
    {
     "name": "stdout",
     "output_type": "stream",
     "text": [
      "bigram - train dataset accuracy 0.9944\n",
      "bigram - valid dataset accuracy 0.8208\n"
     ]
    }
   ],
   "source": [
    "bi_train, bi_valid = corpus_vectorize(train_corpus, bi_vectorizer, valid_corpus)\n",
    "biNB = MultinomialNB()\n",
    "biNB.fit(bi_train, y_train)\n",
    "print(\"bigram - train dataset accuracy\", biNB.score(bi_train, y_train))\n",
    "print(\"bigram - valid dataset accuracy\", biNB.score(bi_valid, y_valid))"
   ]
  },
  {
   "cell_type": "markdown",
   "metadata": {},
   "source": [
    "## Adversary - swap word (black box)"
   ]
  },
  {
   "cell_type": "code",
   "execution_count": 11,
   "metadata": {
    "collapsed": false
   },
   "outputs": [],
   "source": [
    "with open('test.pickle', 'rb') as handle:\n",
    "    test = pickle.load(handle)"
   ]
  },
  {
   "cell_type": "code",
   "execution_count": 12,
   "metadata": {
    "collapsed": true
   },
   "outputs": [],
   "source": [
    "# Because we perform one swap per word, but do not alter the first or last letters.\n",
    "# This noise is only applied to words of length > 3.\n",
    "# noise -> niose\n",
    "\n",
    "def swap(word):\n",
    "    rand = random.randint(1,len(word)-3)\n",
    "    return word[:rand] +  word[rand:rand+2][::-1] + word[rand+2:]\n",
    "\n",
    "def adversary_swap(adversary_data, propotion):\n",
    "    \"\"\"\n",
    "    Randomly swap characters in words in text, parameter 'propotion' decides how many words are s\n",
    "    e.g. noise -> niose \n",
    "    \"\"\"\n",
    "    for i in range(len(adversary_data)):\n",
    "        rand_sample = random.sample(np.arange(0, len(adversary_data[i].text)).tolist(), int(len(adversary_data[i].text)*propotion))\n",
    "        for pick in rand_sample:\n",
    "            if len(adversary_data[i].text[pick]) > 3:\n",
    "                # print(adversary_data[i].text[pick], \"->\", swap(adversary_data[i].text[pick]))\n",
    "                adversary_data[i].text[pick] = swap(adversary_data[i].text[pick])\n",
    "        # print(\" \")\n",
    "        # print(i, \"SWAP END\")\n",
    "        # print(\" \")\n",
    "        \n",
    "    return adversary_data\n"
   ]
  },
  {
   "cell_type": "code",
   "execution_count": 13,
   "metadata": {
    "collapsed": true
   },
   "outputs": [],
   "source": [
    "adversary = adversary_swap(test, 0.3)"
   ]
  },
  {
   "cell_type": "markdown",
   "metadata": {},
   "source": [
    "### Adversary"
   ]
  },
  {
   "cell_type": "code",
   "execution_count": 14,
   "metadata": {
    "collapsed": false
   },
   "outputs": [],
   "source": [
    "adv_corpus = make_corpus(adversary)\n",
    "uni_train, uni_adv = corpus_vectorize(train_corpus, uni_vectorizer, adv_corpus)\n",
    "bi_train, bi_adv = corpus_vectorize(train_corpus, bi_vectorizer, adv_corpus)"
   ]
  },
  {
   "cell_type": "code",
   "execution_count": 15,
   "metadata": {
    "collapsed": false
   },
   "outputs": [
    {
     "name": "stdout",
     "output_type": "stream",
     "text": [
      "unigram - valid dataset accuracy 0.7984\n",
      "unigram - adversary dataset accuracy 0.7904\n",
      "\n",
      "bigram - valid dataset accuracy 0.8208\n",
      "bigram - adversary dataset accuracy 0.7792\n"
     ]
    }
   ],
   "source": [
    "print(\"unigram - valid dataset accuracy\", uniNB.score(uni_valid, y_valid))\n",
    "print(\"unigram - adversary dataset accuracy\", uniNB.score(uni_adv, y_valid))\n",
    "print(\"\")\n",
    "print(\"bigram - valid dataset accuracy\", biNB.score(bi_valid, y_valid))\n",
    "print(\"bigram - adversary dataset accuracy\", biNB.score(bi_adv, y_valid))"
   ]
  },
  {
   "cell_type": "code",
   "execution_count": 16,
   "metadata": {
    "collapsed": false
   },
   "outputs": [
    {
     "name": "stdout",
     "output_type": "stream",
     "text": [
      "unigram confusion_matrix - before\n",
      "[[545  72]\n",
      " [180 453]]\n",
      "unigram confusion_matrix - after\n",
      "[[540  77]\n",
      " [185 448]]\n",
      "\n",
      "bigram confusion_matrix - before\n",
      "[[531  86]\n",
      " [138 495]]\n",
      "bigram confusion_matrix - after\n",
      "[[500 117]\n",
      " [159 474]]\n"
     ]
    }
   ],
   "source": [
    "print(\"unigram confusion_matrix - before\")\n",
    "print(confusion_matrix(y_valid, uniNB.predict(uni_valid)))\n",
    "print(\"unigram confusion_matrix - after\")\n",
    "print(confusion_matrix(y_valid, uniNB.predict(uni_adv)))\n",
    "print(\"\")\n",
    "\n",
    "print(\"bigram confusion_matrix - before\")\n",
    "print(confusion_matrix(y_valid, biNB.predict(bi_valid)))\n",
    "print(\"bigram confusion_matrix - after\")\n",
    "print(confusion_matrix(y_valid, biNB.predict(bi_adv)))"
   ]
  },
  {
   "cell_type": "code",
   "execution_count": null,
   "metadata": {
    "collapsed": false
   },
   "outputs": [],
   "source": []
  },
  {
   "cell_type": "code",
   "execution_count": null,
   "metadata": {
    "collapsed": true
   },
   "outputs": [],
   "source": [
    "# try word embedding\n",
    "len(data_loader.TEXT.vocab.itos)\n",
    "pretrained_embeddings = data_loader.TEXT.vocab.vectors\n",
    "len(pretrained_embeddings)"
   ]
  },
  {
   "cell_type": "markdown",
   "metadata": {},
   "source": [
    "### Save"
   ]
  },
  {
   "cell_type": "code",
   "execution_count": 18,
   "metadata": {
    "collapsed": true
   },
   "outputs": [],
   "source": [
    "# save model \n",
    "filename = 'uniNB_model.sav'\n",
    "pickle.dump(uniNB, open(filename, 'wb'))\n",
    "\n",
    "filename = 'biNB_model.sav'\n",
    "pickle.dump(biNB, open(filename, 'wb'))\n"
   ]
  },
  {
   "cell_type": "code",
   "execution_count": null,
   "metadata": {
    "collapsed": true
   },
   "outputs": [],
   "source": [
    "# load model\n",
    "uniNB = pickle.load(open('./saved_model/uniNB_modle.sav', 'rb'))\n",
    "biNB = pickle.load(open('./saved_model/biNB_model.sav', 'rb'))"
   ]
  },
  {
   "cell_type": "code",
   "execution_count": null,
   "metadata": {
    "collapsed": true
   },
   "outputs": [],
   "source": [
    "# save test data\n",
    "for data in valid:\n",
    "    print(data)\n",
    "    break\n",
    "\n",
    "import pickle\n",
    "raw_X = [data for data in valid]\n",
    "with open('test.pickle', 'wb') as handle:\n",
    "    pickle.dump(raw_X, handle)"
   ]
  },
  {
   "cell_type": "code",
   "execution_count": 10,
   "metadata": {
    "collapsed": true
   },
   "outputs": [],
   "source": [
    "raw_X = [data for data in valid]\n",
    "with open('test.pickle', 'wb') as handle:\n",
    "    pickle.dump(raw_X, handle)"
   ]
  },
  {
   "cell_type": "code",
   "execution_count": null,
   "metadata": {
    "collapsed": true
   },
   "outputs": [],
   "source": []
  }
 ],
 "metadata": {
  "kernelspec": {
   "display_name": "Python 3",
   "language": "python",
   "name": "python3"
  },
  "language_info": {
   "codemirror_mode": {
    "name": "ipython",
    "version": 3
   },
   "file_extension": ".py",
   "mimetype": "text/x-python",
   "name": "python",
   "nbconvert_exporter": "python",
   "pygments_lexer": "ipython3",
   "version": "3.6.6"
  }
 },
 "nbformat": 4,
 "nbformat_minor": 2
}
