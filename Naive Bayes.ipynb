{
 "cells": [
  {
   "cell_type": "markdown",
   "metadata": {},
   "source": [
    "### Import"
   ]
  },
  {
   "cell_type": "code",
   "execution_count": 1,
   "metadata": {
    "collapsed": false
   },
   "outputs": [],
   "source": [
    "import numpy as np\n",
    "import math\n",
    "import torch\n",
    "import torch.nn as nn\n",
    "import torch.optim as optim\n",
    "from torchtext import data\n",
    "from tqdm import tnrange, tqdm_notebook\n",
    "from collections import Counter\n",
    "\n",
    "from data_loader import DataLoader\n",
    "\n",
    "%load_ext autoreload\n",
    "%autoreload 2"
   ]
  },
  {
   "cell_type": "markdown",
   "metadata": {},
   "source": [
    "### Load Data"
   ]
  },
  {
   "cell_type": "code",
   "execution_count": 2,
   "metadata": {
    "collapsed": false
   },
   "outputs": [
    {
     "name": "stderr",
     "output_type": "stream",
     "text": [
      "\r",
      "aclImdb_v1.tar.gz:   0%|          | 0.00/84.1M [00:00<?, ?B/s]"
     ]
    },
    {
     "name": "stdout",
     "output_type": "stream",
     "text": [
      "loading data...\n",
      "downloading aclImdb_v1.tar.gz\n"
     ]
    },
    {
     "name": "stderr",
     "output_type": "stream",
     "text": [
      "aclImdb_v1.tar.gz: 100%|██████████| 84.1M/84.1M [00:09<00:00, 8.78MB/s]\n",
      ".vector_cache/glove.6B.zip: 0.00B [00:00, ?B/s]"
     ]
    },
    {
     "name": "stdout",
     "output_type": "stream",
     "text": [
      "splitting data...\n",
      "building vocabulary...\n"
     ]
    },
    {
     "name": "stderr",
     "output_type": "stream",
     "text": [
      ".vector_cache/glove.6B.zip: 862MB [02:34, 5.58MB/s]                              \n",
      "100%|█████████▉| 399490/400000 [00:28<00:00, 14130.20it/s]"
     ]
    }
   ],
   "source": [
    "data_loader = DataLoader()\n",
    "train, valid = data_loader.small_train_valid()"
   ]
  },
  {
   "cell_type": "code",
   "execution_count": 55,
   "metadata": {
    "collapsed": false
   },
   "outputs": [
    {
     "name": "stdout",
     "output_type": "stream",
     "text": [
      "1250 training examples\n",
      "1250 validation examples\n"
     ]
    }
   ],
   "source": [
    "print('%d training examples' %len(train))\n",
    "print('%d validation examples' %len(valid))\n",
    "\n",
    "# true label for train 'pos' > 1, 'neg' > 0\n",
    "y_train = [1 if train[i].label == ['pos'] else 0 for i in range(len(train))]\n",
    "\n",
    "# true label for valid 'pos' > 1, 'neg' > 0\n",
    "y_valid = [1 if valid[i].label == ['pos'] else 0 for i in range(len(valid))]\n",
    "\n"
   ]
  },
  {
   "cell_type": "markdown",
   "metadata": {},
   "source": [
    "### Naive Bayes"
   ]
  },
  {
   "cell_type": "code",
   "execution_count": 56,
   "metadata": {
    "collapsed": false
   },
   "outputs": [],
   "source": [
    "def nb_train(train):\n",
    "    \n",
    "    vocab_dict = Counter()\n",
    "    for i in range(len(train)):\n",
    "        for word in train[i].text:\n",
    "            vocab_dict[word] = 1\n",
    "                \n",
    "    vocab_size = len(vocab_dict)\n",
    "        \n",
    "    pos_word = []\n",
    "    neg_word = []\n",
    "\n",
    "    pos_dict = vocab_dict.copy()\n",
    "    neg_dict = vocab_dict.copy()\n",
    "    \n",
    "    for i in range(len(train)):\n",
    "        if y_train[i] == 1:\n",
    "            for word in train[i].text:\n",
    "                pos_word.append(word)\n",
    "                pos_dict[word] += 1\n",
    "        else:\n",
    "            for word in train[i].text:\n",
    "                neg_word.append(word)\n",
    "                neg_dict[word] += 1\n",
    "               \n",
    "        p_class1 = sum(y_train)/len(y_train)\n",
    "        \n",
    "    for k,v in pos_dict.items():\n",
    "        pos_dict[k] = math.log((pos_dict[k])/(vocab_size + len(pos_word)))\n",
    "        neg_dict[k] = math.log((neg_dict[k])/(vocab_size + len(neg_word)))\n",
    "            \n",
    "    return pos_dict, neg_dict, p_class1\n",
    "\n",
    "        \n",
    "def evaluate(valid, pos_dict, neg_dict, p_class1):\n",
    "        \n",
    "    pred = []\n",
    "        \n",
    "    for i in range(len(valid)):\n",
    "        p_pos = 0\n",
    "        p_neg = 0 \n",
    "        for word in valid[i].text:\n",
    "            p_pos += pos_dict[word]\n",
    "            p_neg += neg_dict[word]\n",
    "                \n",
    "        p_pos += np.log(p_class1)\n",
    "        p_neg += np.log(1-p_class1)\n",
    "\n",
    "        if p_pos > p_neg:\n",
    "            pred.append(1)\n",
    "        else:                \n",
    "            pred.append(0)      \n",
    "        \n",
    "    return pred\n",
    "    \n",
    "def accuracy(pred, y):\n",
    "    \n",
    "    acc = np.where(np.array(pred) - np.array(y)==0, 1, 0)\n",
    "    return sum(acc)/len(pred)"
   ]
  },
  {
   "cell_type": "code",
   "execution_count": 57,
   "metadata": {
    "collapsed": false
   },
   "outputs": [],
   "source": [
    "pos_dict, neg_dict, p_class1 = nb_train(train)"
   ]
  },
  {
   "cell_type": "code",
   "execution_count": 58,
   "metadata": {
    "collapsed": false
   },
   "outputs": [],
   "source": [
    "pred_valid = evaluate(valid, pos_dict, neg_dict, p_class1)"
   ]
  },
  {
   "cell_type": "code",
   "execution_count": 59,
   "metadata": {
    "collapsed": false
   },
   "outputs": [
    {
     "data": {
      "text/plain": [
       "0.7936"
      ]
     },
     "execution_count": 59,
     "metadata": {},
     "output_type": "execute_result"
    }
   ],
   "source": [
    "accuracy(pred_valid, y_valid)"
   ]
  },
  {
   "cell_type": "code",
   "execution_count": 60,
   "metadata": {
    "collapsed": false
   },
   "outputs": [],
   "source": [
    "pre_train = evaluate(train, pos_dict, neg_dict, p_class1)"
   ]
  },
  {
   "cell_type": "code",
   "execution_count": 61,
   "metadata": {
    "collapsed": false
   },
   "outputs": [
    {
     "data": {
      "text/plain": [
       "0.9792"
      ]
     },
     "execution_count": 61,
     "metadata": {},
     "output_type": "execute_result"
    }
   ],
   "source": [
    "accuracy(pre_train, y_train)"
   ]
  },
  {
   "cell_type": "code",
   "execution_count": null,
   "metadata": {
    "collapsed": true
   },
   "outputs": [],
   "source": []
  }
 ],
 "metadata": {
  "kernelspec": {
   "display_name": "Python 3",
   "language": "python",
   "name": "python3"
  },
  "language_info": {
   "codemirror_mode": {
    "name": "ipython",
    "version": 3
   },
   "file_extension": ".py",
   "mimetype": "text/x-python",
   "name": "python",
   "nbconvert_exporter": "python",
   "pygments_lexer": "ipython3",
   "version": "3.6.0"
  }
 },
 "nbformat": 4,
 "nbformat_minor": 2
}
