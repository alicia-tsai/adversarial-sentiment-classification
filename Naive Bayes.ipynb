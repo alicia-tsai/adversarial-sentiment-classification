{
 "cells": [
  {
   "cell_type": "markdown",
   "metadata": {},
   "source": [
    "### Import"
   ]
  },
  {
   "cell_type": "code",
   "execution_count": 1,
   "metadata": {
    "collapsed": false
   },
   "outputs": [],
   "source": [
    "import numpy as np\n",
    "import math\n",
    "import torch\n",
    "import torch.nn as nn\n",
    "import torch.optim as optim\n",
    "from torchtext import data\n",
    "from tqdm import tnrange, tqdm_notebook\n",
    "from collections import Counter\n",
    "\n",
    "from data_loader import DataLoader\n",
    "\n",
    "%load_ext autoreload\n",
    "%autoreload 2\n"
   ]
  },
  {
   "cell_type": "markdown",
   "metadata": {},
   "source": [
    "### Load Data"
   ]
  },
  {
   "cell_type": "code",
   "execution_count": 26,
   "metadata": {
    "collapsed": false
   },
   "outputs": [
    {
     "name": "stdout",
     "output_type": "stream",
     "text": [
      "loading data...\n",
      "splitting data...\n",
      "building vocabulary...\n"
     ]
    }
   ],
   "source": [
    "data_loader = DataLoader()\n",
    "train, valid = data_loader.small_train_valid()\n"
   ]
  },
  {
   "cell_type": "code",
   "execution_count": 27,
   "metadata": {
    "collapsed": false
   },
   "outputs": [
    {
     "name": "stdout",
     "output_type": "stream",
     "text": [
      "1250 training examples\n",
      "1250 validation examples\n"
     ]
    }
   ],
   "source": [
    "print('%d training examples' %len(train))\n",
    "print('%d validation examples' %len(valid))\n",
    "\n",
    "# true label for train 'pos' > 1, 'neg' > 0\n",
    "y_train = [1 if train[i].label == ['pos'] else 0 for i in range(len(train))]\n",
    "\n",
    "# true label for valid 'pos' > 1, 'neg' > 0\n",
    "y_valid = [1 if valid[i].label == ['pos'] else 0 for i in range(len(valid))]\n",
    "\n"
   ]
  },
  {
   "cell_type": "markdown",
   "metadata": {},
   "source": [
    "### Naive Bayes - Unigram"
   ]
  },
  {
   "cell_type": "code",
   "execution_count": 70,
   "metadata": {
    "collapsed": true
   },
   "outputs": [],
   "source": [
    "def nb_train_unigram(train):\n",
    "    \"\"\"\n",
    "    Build positive/negative word dictionary from training data.\n",
    "    Return postive log prob dictionary, negative lob prob dictionary, posistive prob\n",
    "       \n",
    "    \"\"\"\n",
    "    \n",
    "    vocab_dict = Counter()\n",
    "    for i in range(len(train)):\n",
    "        for word in train[i].text:\n",
    "            vocab_dict[word] = 1\n",
    "                \n",
    "    vocab_size = len(vocab_dict)\n",
    "        \n",
    "    pos_word = []\n",
    "    neg_word = []\n",
    "\n",
    "    pos_dict = vocab_dict.copy()\n",
    "    neg_dict = vocab_dict.copy()\n",
    "    \n",
    "    for i in range(len(train)):\n",
    "        if y_train[i] == 1:\n",
    "            for word in train[i].text:\n",
    "                pos_word.append(word)\n",
    "                pos_dict[word] += 1\n",
    "        else:\n",
    "            for word in train[i].text:\n",
    "                neg_word.append(word)\n",
    "                neg_dict[word] += 1\n",
    "               \n",
    "        p_class1 = sum(y_train)/len(y_train)\n",
    "        \n",
    "    for k,v in pos_dict.items():\n",
    "        pos_dict[k] = math.log((pos_dict[k])/(vocab_size + len(pos_word)))\n",
    "        neg_dict[k] = math.log((neg_dict[k])/(vocab_size + len(neg_word)))\n",
    "            \n",
    "    return pos_dict, neg_dict, p_class1\n",
    "\n",
    "        \n",
    "def nb_evaluate_unigram(valid, pos_dict, neg_dict, p_class1):\n",
    "    \"\"\"\n",
    "    Make prediction from valid data based on positive/negative dictionary.\n",
    "    Return prediction array \n",
    "    \"\"\"\n",
    "        \n",
    "    pred = []\n",
    "        \n",
    "    for i in range(len(valid)):\n",
    "        p_pos = 0\n",
    "        p_neg = 0 \n",
    "        for word in valid[i].text:\n",
    "            if word in pos_dict:\n",
    "                p_pos += pos_dict[word]\n",
    "                p_neg += neg_dict[word]\n",
    "                \n",
    "        p_pos += np.log(p_class1)\n",
    "        p_neg += np.log(1-p_class1)\n",
    "\n",
    "        if p_pos > p_neg:\n",
    "            pred.append(1)\n",
    "        else:                \n",
    "            pred.append(0)      \n",
    "        \n",
    "    return pred\n",
    "    "
   ]
  },
  {
   "cell_type": "markdown",
   "metadata": {},
   "source": [
    "### Naive Bayes - Bigrams"
   ]
  },
  {
   "cell_type": "code",
   "execution_count": 71,
   "metadata": {
    "collapsed": true
   },
   "outputs": [],
   "source": [
    "def nb_train_bigrams(train):\n",
    "    \"\"\"\n",
    "    Build positive/negative bigrams dictionary from training data.\n",
    "    Return postive log prob dictionary, negative lob prob dictionary, posistive prob\n",
    "       \n",
    "    \"\"\"\n",
    "    vocab_dict = Counter()\n",
    "    for i in range(len(train)):\n",
    "        train[i].text.insert(0,\"START\")\n",
    "        train[i].text.append(\"STOP\")\n",
    "        for j in range(len(train[i].text)-1):\n",
    "            bigrams = train[i].text[j] + \" \" + train[i].text[j+1]\n",
    "            vocab_dict[bigrams] = 1 \n",
    "        \n",
    "    vocab_size = len(vocab_dict)\n",
    "        \n",
    "    pos_word = []\n",
    "    neg_word = []\n",
    "\n",
    "    pos_dict = vocab_dict.copy()\n",
    "    neg_dict = vocab_dict.copy()\n",
    "    \n",
    "    for i in range(len(train)):\n",
    "        for j in range(len(train[i].text)-1):\n",
    "            bigrams = train[i].text[j] + \" \" + train[i].text[j+1]\n",
    "            if y_train[i] == 1:\n",
    "                pos_word.append(bigrams)\n",
    "                pos_dict[bigrams] += 1\n",
    "            else:\n",
    "                neg_word.append(bigrams)\n",
    "                neg_dict[bigrams] += 1\n",
    "               \n",
    "        p_class1 = sum(y_train)/len(y_train)\n",
    "        \n",
    "    for k,v in pos_dict.items():\n",
    "        pos_dict[k] = math.log((pos_dict[k])/(vocab_size + len(pos_word)))\n",
    "        neg_dict[k] = math.log((neg_dict[k])/(vocab_size + len(neg_word)))\n",
    "            \n",
    "    return pos_dict, neg_dict, p_class1\n",
    "    \n",
    "    \n",
    "def nb_evaluate_bigrams(valid, pos_dict, neg_dict, p_class1):\n",
    "    \"\"\"\n",
    "    Make prediction from valid data based on positive/negative bigrams dictionary.\n",
    "    Return prediction array \n",
    "    \"\"\"\n",
    "        \n",
    "    pred = []\n",
    "        \n",
    "    for i in range(len(valid)):\n",
    "        p_pos = 0\n",
    "        p_neg = 0        \n",
    "        valid[i].text.insert(0,\"START\")\n",
    "        valid[i].text.append(\"STOP\")\n",
    "        for j in range(len(valid[i].text)-1):\n",
    "            bigrams = valid[i].text[j] + \" \" + valid[i].text[j+1]\n",
    "            if bigrams in pos_dict:\n",
    "                p_pos += pos_dict[bigrams]\n",
    "                p_neg += neg_dict[bigrams]\n",
    "                \n",
    "        p_pos += np.log(p_class1)\n",
    "        p_neg += np.log(1-p_class1)\n",
    "\n",
    "        if p_pos > p_neg:\n",
    "            pred.append(1)\n",
    "        else:                \n",
    "            pred.append(0)      \n",
    "        \n",
    "    return pred\n",
    "\n",
    "    "
   ]
  },
  {
   "cell_type": "markdown",
   "metadata": {},
   "source": [
    "### Accuracy"
   ]
  },
  {
   "cell_type": "code",
   "execution_count": 58,
   "metadata": {
    "collapsed": true
   },
   "outputs": [],
   "source": [
    "def accuracy(pred, y):\n",
    "    acc = np.where(np.array(pred) - np.array(y)==0, 1, 0)\n",
    "    return sum(acc)/len(pred)"
   ]
  },
  {
   "cell_type": "code",
   "execution_count": 59,
   "metadata": {
    "collapsed": false
   },
   "outputs": [],
   "source": [
    "pos_dict_uni, neg_dict_uni, p_class1_uni = nb_train(train)\n"
   ]
  },
  {
   "cell_type": "code",
   "execution_count": 72,
   "metadata": {
    "collapsed": false
   },
   "outputs": [
    {
     "name": "stdout",
     "output_type": "stream",
     "text": [
      "unigram - train dataset accuracy 0.9792\n",
      "unigram - valid dataset accuracy 0.7936\n"
     ]
    }
   ],
   "source": [
    "uni_pred_valid = evaluate(valid, pos_dict_uni, neg_dict_uni, p_class1_uni)\n",
    "uni_pred_train = evaluate(train, pos_dict_uni, neg_dict_uni, p_class1_uni)\n",
    "print(\"unigram - train dataset accuracy\", accuracy(uni_pred_train, y_train))\n",
    "print(\"unigram - valid dataset accuracy\", accuracy(uni_pred_valid, y_valid))\n"
   ]
  },
  {
   "cell_type": "code",
   "execution_count": 73,
   "metadata": {
    "collapsed": true
   },
   "outputs": [],
   "source": [
    "bi_pos_dict, bi_neg_dict, bi_p_class1 = nb_train_bigrams(train)"
   ]
  },
  {
   "cell_type": "code",
   "execution_count": 74,
   "metadata": {
    "collapsed": false
   },
   "outputs": [
    {
     "name": "stdout",
     "output_type": "stream",
     "text": [
      "bigrams - train dataset accuracy 1.0\n",
      "bigrams - valid dataset accuracy 0.8064\n"
     ]
    }
   ],
   "source": [
    "bi_pred_valid = evaluate_bigrams(valid, bi_pos_dict, bi_neg_dict, bi_p_class1)\n",
    "bi_pred_train = evaluate_bigrams(train, bi_pos_dict, bi_neg_dict, bi_p_class1)\n",
    "print(\"bigrams - train dataset accuracy\", accuracy(bi_pred_train, y_train))\n",
    "print(\"bigrams - valid dataset accuracy\", accuracy(bi_pred_valid, y_valid))\n"
   ]
  },
  {
   "cell_type": "code",
   "execution_count": null,
   "metadata": {
    "collapsed": true
   },
   "outputs": [],
   "source": []
  }
 ],
 "metadata": {
  "kernelspec": {
   "display_name": "Python 3",
   "language": "python",
   "name": "python3"
  },
  "language_info": {
   "codemirror_mode": {
    "name": "ipython",
    "version": 3
   },
   "file_extension": ".py",
   "mimetype": "text/x-python",
   "name": "python",
   "nbconvert_exporter": "python",
   "pygments_lexer": "ipython3",
   "version": "3.6.0"
  }
 },
 "nbformat": 4,
 "nbformat_minor": 2
}
