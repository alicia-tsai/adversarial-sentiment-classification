{
 "cells": [
  {
   "cell_type": "markdown",
   "metadata": {},
   "source": [
    "### Import"
   ]
  },
  {
   "cell_type": "code",
   "execution_count": 1,
   "metadata": {},
   "outputs": [],
   "source": [
    "import numpy as np\n",
    "import torch\n",
    "import torch.nn as nn\n",
    "import torch.optim as optim\n",
    "from torchtext import data\n",
    "from tqdm import tnrange, tqdm_notebook\n",
    "\n",
    "from data_loader import DataLoader\n",
    "\n",
    "%load_ext autoreload\n",
    "%autoreload 2"
   ]
  },
  {
   "cell_type": "markdown",
   "metadata": {},
   "source": [
    "### Load Data\n",
    "\n",
    "_**Note**: It takes a while to load data_"
   ]
  },
  {
   "cell_type": "code",
   "execution_count": 2,
   "metadata": {},
   "outputs": [
    {
     "name": "stdout",
     "output_type": "stream",
     "text": [
      "loading data...\n",
      "splitting data...\n",
      "building vocabulary...\n"
     ]
    }
   ],
   "source": [
    "data_loader = DataLoader()\n",
    "train, valid = data_loader.small_train_valid()"
   ]
  },
  {
   "cell_type": "code",
   "execution_count": 3,
   "metadata": {},
   "outputs": [],
   "source": [
    "BATCH_SIZE = 64\n",
    "device = torch.device('cuda' if torch.cuda.is_available() else 'cpu')\n",
    "\n",
    "# make iterator for splits\n",
    "train_iter, valid_iter = data.BucketIterator.splits((train, valid), batch_size=BATCH_SIZE, device=device)"
   ]
  },
  {
   "cell_type": "code",
   "execution_count": 4,
   "metadata": {},
   "outputs": [
    {
     "name": "stdout",
     "output_type": "stream",
     "text": [
      "{'text': ['<', 'br', '/><br', '/>charlie', 'kauffman', 'has', 'made', 'weird', 'metaphysical', 'angst', 'popular', ',', 'but', 'this', 'canadian', 'gem', 'makes', 'it', 'hilarious', '.', '<', 'br', '/><br', '/>like', 'most', 'weird', 'films', 'the', 'less', 'said', 'about', 'plot', 'the', 'better', 'but', 'let', \"'s\", 'set', 'the', 'scene', ',', 'two', 'friends', 'anthony', 'and', 'dave', 'have', 'been', 'together', 'since', 'childhood', ',', 'they', 'ca', \"n't\", 'cope', 'with', 'the', 'world', 'and', 'eventually', 'this', 'means', 'they', 'no', 'longer', 'have', 'to', '.', 'but', 'that', 'is', 'where', 'even', 'more', 'problems', 'begin.<br', '/><br', '/>i', 'loved', 'this', 'film', ',', 'it', 'made', 'me', 'smile', 'long', 'after', 'the', 'final', 'credits', 'and', 'that', 'is', 'a', 'rare', 'experience', 'with', 'so', 'many', 'mass', 'produced', 'pieces', 'of', '\"', 'nothing', '\"', 'out', 'there.<br', '/><br', \"/>don't\", 'miss', 'this.<br', '/><br', '/', '>'], 'label': ['pos']}\n"
     ]
    }
   ],
   "source": [
    "print(vars(train.examples[0]))"
   ]
  },
  {
   "cell_type": "code",
   "execution_count": 5,
   "metadata": {},
   "outputs": [
    {
     "name": "stdout",
     "output_type": "stream",
     "text": [
      "1250 training examples\n",
      "1250 validation examples\n",
      "22587 unique tokens in TEXT\n",
      "4 unique tokens in LABEL\n",
      "['<unk>', '<pad>', 'neg', 'pos']\n",
      "Input data shape: torch.Size([22587, 100])\n"
     ]
    }
   ],
   "source": [
    "print('%d training examples' %len(train))\n",
    "print('%d validation examples' %len(valid))\n",
    "print('%d unique tokens in TEXT' %len(data_loader.TEXT.vocab))\n",
    "print('%d unique tokens in LABEL' %len(data_loader.LABEL.vocab))\n",
    "print(data_loader.LABEL.vocab.itos)\n",
    "print('Input data shape:', data_loader.TEXT.vocab.vectors.shape)"
   ]
  },
  {
   "cell_type": "markdown",
   "metadata": {},
   "source": [
    "### Model Config"
   ]
  },
  {
   "cell_type": "code",
   "execution_count": 6,
   "metadata": {},
   "outputs": [],
   "source": [
    "VOCAB_SIZE, EMBEDDING_DIM = data_loader.TEXT.vocab.vectors.shape\n",
    "HIDDEN_DIM = 32\n",
    "OUTPUT_DIM = 1\n",
    "BIDRECTIONAL = True\n",
    "LEARNING_RATE = 1e-3"
   ]
  },
  {
   "cell_type": "markdown",
   "metadata": {},
   "source": [
    "### BiRNN"
   ]
  },
  {
   "cell_type": "code",
   "execution_count": 7,
   "metadata": {},
   "outputs": [],
   "source": [
    "class BiRNN(nn.Module):\n",
    "    \n",
    "    def __init__(self, vocab_size, embedding_dim, hidden_dim, output_dim, bidirectional):\n",
    "        super(BiRNN, self).__init__()\n",
    "        \n",
    "        self.embedding = nn.Embedding(vocab_size, embedding_dim)\n",
    "        self.rnn = nn.RNN(embedding_dim, hidden_dim, bidirectional=bidirectional)\n",
    "        self.fc = nn.Linear(hidden_dim * 2, output_dim)  # input is concated forward and backward hidden state\n",
    "        \n",
    "    def forward(self, x):\n",
    "        embeds = self.embedding(x)\n",
    "        lstm_output, hidden = self.rnn(embeds)\n",
    "        hidden = torch.cat((hidden[-2,:,:], hidden[-1,:,:]), dim=1)  # concate forward and backward hidden before FC\n",
    "        fc_output = self.fc(hidden.squeeze(0))\n",
    "        \n",
    "        return fc_output\n"
   ]
  },
  {
   "cell_type": "code",
   "execution_count": 8,
   "metadata": {},
   "outputs": [
    {
     "data": {
      "text/plain": [
       "tensor([[ 0.0000,  0.0000,  0.0000,  ...,  0.0000,  0.0000,  0.0000],\n",
       "        [ 0.0000,  0.0000,  0.0000,  ...,  0.0000,  0.0000,  0.0000],\n",
       "        [-0.0382, -0.2449,  0.7281,  ..., -0.1459,  0.8278,  0.2706],\n",
       "        ...,\n",
       "        [ 0.0000,  0.0000,  0.0000,  ...,  0.0000,  0.0000,  0.0000],\n",
       "        [-0.2415, -0.1050, -0.1875,  ..., -0.3229,  0.1251, -0.8694],\n",
       "        [ 0.0000,  0.0000,  0.0000,  ...,  0.0000,  0.0000,  0.0000]])"
      ]
     },
     "execution_count": 8,
     "metadata": {},
     "output_type": "execute_result"
    }
   ],
   "source": [
    "# initialize model\n",
    "model_birnn = BiRNN(VOCAB_SIZE, EMBEDDING_DIM, HIDDEN_DIM, OUTPUT_DIM, BIDRECTIONAL)\n",
    "model_birnn = model_birnn.to(device)  # place it to GPU (if available)\n",
    "\n",
    "# replace inintial weights of embedding layer with pred-trained embedding\n",
    "pretrained_embeddings = data_loader.TEXT.vocab.vectors\n",
    "model_birnn.embedding.weight.data.copy_(pretrained_embeddings)"
   ]
  },
  {
   "cell_type": "markdown",
   "metadata": {},
   "source": [
    "### BiLSTM"
   ]
  },
  {
   "cell_type": "code",
   "execution_count": 9,
   "metadata": {},
   "outputs": [],
   "source": [
    "class BiLSTM(nn.Module):\n",
    "    \n",
    "    def __init__(self, vocab_size, embedding_dim, hidden_dim, output_dim, bidirectional):\n",
    "        super(BiLSTM, self).__init__()\n",
    "        \n",
    "        self.embedding = nn.Embedding(vocab_size, embedding_dim)\n",
    "        self.lstm = nn.LSTM(embedding_dim, hidden_dim, bidirectional=bidirectional)\n",
    "        self.fc = nn.Linear(hidden_dim * 2, output_dim)  # input is concated forward and backward hidden state\n",
    "        \n",
    "    def forward(self, x):\n",
    "        embeds = self.embedding(x)\n",
    "        lstm_output, (hidden, memory) = self.lstm(embeds)\n",
    "        hidden = torch.cat((hidden[-2,:,:], hidden[-1,:,:]), dim=1)  # concate forward and backward hidden before FC\n",
    "        fc_output = self.fc(hidden.squeeze(0))\n",
    "        \n",
    "        return fc_output"
   ]
  },
  {
   "cell_type": "code",
   "execution_count": 10,
   "metadata": {},
   "outputs": [
    {
     "data": {
      "text/plain": [
       "tensor([[ 0.0000,  0.0000,  0.0000,  ...,  0.0000,  0.0000,  0.0000],\n",
       "        [ 0.0000,  0.0000,  0.0000,  ...,  0.0000,  0.0000,  0.0000],\n",
       "        [-0.0382, -0.2449,  0.7281,  ..., -0.1459,  0.8278,  0.2706],\n",
       "        ...,\n",
       "        [ 0.0000,  0.0000,  0.0000,  ...,  0.0000,  0.0000,  0.0000],\n",
       "        [-0.2415, -0.1050, -0.1875,  ..., -0.3229,  0.1251, -0.8694],\n",
       "        [ 0.0000,  0.0000,  0.0000,  ...,  0.0000,  0.0000,  0.0000]])"
      ]
     },
     "execution_count": 10,
     "metadata": {},
     "output_type": "execute_result"
    }
   ],
   "source": [
    "# initialize model\n",
    "model_bilstm = BiLSTM(VOCAB_SIZE, EMBEDDING_DIM, HIDDEN_DIM, OUTPUT_DIM, BIDRECTIONAL)\n",
    "model_bilstm = model_bilstm.to(device)  # place it to GPU (if available)\n",
    "\n",
    "# replace inintial weights of embedding layer with pred-trained embedding\n",
    "pretrained_embeddings = data_loader.TEXT.vocab.vectors\n",
    "model_bilstm.embedding.weight.data.copy_(pretrained_embeddings)"
   ]
  },
  {
   "cell_type": "markdown",
   "metadata": {},
   "source": [
    "### Classifier Class"
   ]
  },
  {
   "cell_type": "code",
   "execution_count": 11,
   "metadata": {},
   "outputs": [],
   "source": [
    "class SentimentClassifier:\n",
    "    \n",
    "    def __init__(self, train_iter, valid_iter, model):\n",
    "        self.train_iter = train_iter\n",
    "        self.valid_iter = valid_iter\n",
    "        self.model = model\n",
    "        self.optimizer = optim.Adam(self.model.parameters())\n",
    "        self.loss_function = nn.BCEWithLogitsLoss()          # Binary Cross-Entropy Loss\n",
    "        self.loss_function = self.loss_function.to(device)   # place it to GPU (if available)\n",
    "        \n",
    "    def accuracy(self, pred, y):\n",
    "        \"\"\"Define metric for evaluation.\"\"\"\n",
    "        pred = torch.round(torch.sigmoid(pred))\n",
    "        acc = torch.sum((pred == y)).float() / len(y)\n",
    "        return acc\n",
    "\n",
    "    def train_model(self):\n",
    "        \"\"\"Train one epoch of inputs and update weights.\n",
    "        \n",
    "        Return: average loss, average accuracy.\n",
    "        \"\"\"\n",
    "        epoch_loss = []\n",
    "        epoch_acc = []\n",
    "        self.model.train()\n",
    "\n",
    "        for batch_data in self.train_iter:\n",
    "            self.optimizer.zero_grad()  # clear out gradient\n",
    "            pred = self.model(batch_data.text).squeeze(1)\n",
    "            y = (batch_data.label.squeeze(0) >= 3).float()  # neg:2, pos:3 -> convert them to 0 and 1\n",
    "            loss = self.loss_function(pred, y)\n",
    "            acc = self.accuracy(pred, y)\n",
    "\n",
    "            # backprob and update gradient\n",
    "            loss.backward()\n",
    "            self.optimizer.step()\n",
    "\n",
    "            epoch_loss.append(loss.item())\n",
    "            epoch_acc.append(acc.item())\n",
    "\n",
    "        return np.mean(epoch_loss), np.mean(epoch_acc)\n",
    "\n",
    "    \n",
    "    def evaluate_model(self):\n",
    "        \"\"\"Evaluate one epoch of inputs.\n",
    "        \n",
    "        Return: average loss, average accuracy.\n",
    "        \"\"\"\n",
    "        epoch_loss = []\n",
    "        epoch_acc = []\n",
    "        self.model.eval()\n",
    "\n",
    "        with torch.no_grad():    \n",
    "            for batch_data in self.valid_iter:\n",
    "                pred = self.model(batch_data.text).squeeze(1)\n",
    "                y = (batch_data.label.squeeze(0) >= 3).float()\n",
    "                loss = self.loss_function(pred, y)\n",
    "                acc = self.accuracy(pred, y)\n",
    "\n",
    "                epoch_loss.append(loss.item())\n",
    "                epoch_acc.append(acc.item())\n",
    "\n",
    "        return np.mean(epoch_loss), np.mean(epoch_acc)\n",
    "\n",
    "    \n",
    "    def run_epochs(self, num_epochs=10, eval_each=1):\n",
    "        \"\"\"Run # epochs and evaluate the model.\n",
    "        \n",
    "        Return: average loss and accuracy per epoch for training and validation set.\n",
    "        \"\"\"\n",
    "        train_epoch_metrics, valid_epoch_metrics = [], []\n",
    "        \n",
    "        for epoch in tnrange(num_epochs, desc='EPOCHS'):\n",
    "            train_loss, train_acc = self.train_model()\n",
    "            valid_loss, valid_acc = self.evaluate_model()\n",
    "            train_epoch_metrics.append((train_loss, train_acc))\n",
    "            valid_epoch_metrics.append((valid_loss, valid_acc))\n",
    "\n",
    "            if (epoch + 1) % eval_each == 0:\n",
    "                print('Epoch %d | Train Loss: %.2f | Train Acc: %.2f | Test Loss: %.2f | Test Acc: %.2f'\n",
    "                      %(epoch, train_loss, train_acc, valid_loss, valid_acc))\n",
    "        \n",
    "        return train_epoch_metrics, valid_epoch_metrics\n",
    "    \n",
    "    def save_model(self, PATH):\n",
    "        torch.save(self.model.state_dict(), PATH)\n",
    "        \n",
    "    def load_model(self, PATH):\n",
    "        self.model.load_state_dict(torch.load(PATH))\n",
    "        self.model.eval()"
   ]
  },
  {
   "cell_type": "markdown",
   "metadata": {},
   "source": [
    "### Run BiRNN and BiLSTM Model"
   ]
  },
  {
   "cell_type": "code",
   "execution_count": 25,
   "metadata": {},
   "outputs": [
    {
     "name": "stdout",
     "output_type": "stream",
     "text": [
      "Epoch 0 | Train Loss: 0.69 | Train Acc: 0.52 | Test Loss: 0.70 | Test Acc: 0.51\n",
      "Epoch 1 | Train Loss: 0.68 | Train Acc: 0.57 | Test Loss: 0.69 | Test Acc: 0.51\n",
      "Epoch 2 | Train Loss: 0.67 | Train Acc: 0.61 | Test Loss: 0.69 | Test Acc: 0.51\n",
      "Epoch 3 | Train Loss: 0.65 | Train Acc: 0.65 | Test Loss: 0.70 | Test Acc: 0.51\n",
      "Epoch 4 | Train Loss: 0.62 | Train Acc: 0.69 | Test Loss: 0.69 | Test Acc: 0.55\n",
      "Epoch 5 | Train Loss: 0.55 | Train Acc: 0.77 | Test Loss: 0.71 | Test Acc: 0.54\n",
      "Epoch 6 | Train Loss: 0.44 | Train Acc: 0.84 | Test Loss: 0.76 | Test Acc: 0.54\n",
      "Epoch 7 | Train Loss: 0.33 | Train Acc: 0.90 | Test Loss: 0.81 | Test Acc: 0.54\n",
      "Epoch 8 | Train Loss: 0.24 | Train Acc: 0.93 | Test Loss: 0.91 | Test Acc: 0.54\n",
      "Epoch 9 | Train Loss: 0.16 | Train Acc: 0.96 | Test Loss: 1.00 | Test Acc: 0.54\n"
     ]
    }
   ],
   "source": [
    "birnn_classifier = SentimentClassifier(train_iter, valid_iter, model_birnn)\n",
    "birnn_train_epoch_metrics, birnn_valid_epoch_metrics = birnn_classifier.run_epochs()"
   ]
  },
  {
   "cell_type": "code",
   "execution_count": 12,
   "metadata": {},
   "outputs": [
    {
     "data": {
      "application/vnd.jupyter.widget-view+json": {
       "model_id": "3928107c4ba740e9b31fbcb2abb338fa",
       "version_major": 2,
       "version_minor": 0
      },
      "text/plain": [
       "HBox(children=(IntProgress(value=0, description='EPOCHS', max=10, style=ProgressStyle(description_width='initi…"
      ]
     },
     "metadata": {},
     "output_type": "display_data"
    },
    {
     "name": "stdout",
     "output_type": "stream",
     "text": [
      "Epoch 0 | Train Loss: 0.69 | Train Acc: 0.53 | Test Loss: 0.69 | Test Acc: 0.50\n",
      "Epoch 1 | Train Loss: 0.68 | Train Acc: 0.56 | Test Loss: 0.69 | Test Acc: 0.53\n",
      "Epoch 2 | Train Loss: 0.67 | Train Acc: 0.61 | Test Loss: 0.67 | Test Acc: 0.58\n",
      "Epoch 3 | Train Loss: 0.63 | Train Acc: 0.67 | Test Loss: 0.67 | Test Acc: 0.59\n",
      "Epoch 4 | Train Loss: 0.56 | Train Acc: 0.73 | Test Loss: 0.62 | Test Acc: 0.66\n",
      "Epoch 5 | Train Loss: 0.50 | Train Acc: 0.77 | Test Loss: 0.60 | Test Acc: 0.69\n",
      "Epoch 6 | Train Loss: 0.43 | Train Acc: 0.83 | Test Loss: 0.72 | Test Acc: 0.64\n",
      "Epoch 7 | Train Loss: 0.46 | Train Acc: 0.80 | Test Loss: 0.59 | Test Acc: 0.69\n",
      "Epoch 8 | Train Loss: 0.32 | Train Acc: 0.89 | Test Loss: 0.69 | Test Acc: 0.67\n",
      "Epoch 9 | Train Loss: 0.38 | Train Acc: 0.86 | Test Loss: 0.59 | Test Acc: 0.69\n",
      "\n"
     ]
    }
   ],
   "source": [
    "bilstm_classifier = SentimentClassifier(train_iter, valid_iter, model_bilstm)\n",
    "bilstm_train_epoch_metrics, bilstm_valid_epoch_metrics = bilstm_classifier.run_epochs()"
   ]
  },
  {
   "cell_type": "code",
   "execution_count": 13,
   "metadata": {},
   "outputs": [],
   "source": [
    "bilstm_classifier.save_model('bilstm-0.pt')\n",
    "#torch.save(bilstm_classifier.model.state_dict(), 'bilstm-1.pt')"
   ]
  },
  {
   "cell_type": "code",
   "execution_count": 24,
   "metadata": {},
   "outputs": [
    {
     "name": "stdout",
     "output_type": "stream",
     "text": [
      "Model's state_dict:\n",
      "embedding.weight \t torch.Size([22587, 100])\n",
      "lstm.weight_ih_l0 \t torch.Size([128, 100])\n",
      "lstm.weight_hh_l0 \t torch.Size([128, 32])\n",
      "lstm.bias_ih_l0 \t torch.Size([128])\n",
      "lstm.bias_hh_l0 \t torch.Size([128])\n",
      "lstm.weight_ih_l0_reverse \t torch.Size([128, 100])\n",
      "lstm.weight_hh_l0_reverse \t torch.Size([128, 32])\n",
      "lstm.bias_ih_l0_reverse \t torch.Size([128])\n",
      "lstm.bias_hh_l0_reverse \t torch.Size([128])\n",
      "fc.weight \t torch.Size([1, 64])\n",
      "fc.bias \t torch.Size([1])\n"
     ]
    }
   ],
   "source": [
    "print(\"Model's state_dict:\")\n",
    "for param_tensor in bilstm_classifier.model.state_dict():\n",
    "    print(param_tensor, \"\\t\", bilstm_classifier.model.state_dict()[param_tensor].size())"
   ]
  },
  {
   "cell_type": "markdown",
   "metadata": {},
   "source": [
    "### Adversary"
   ]
  },
  {
   "cell_type": "markdown",
   "metadata": {},
   "source": [
    "#### Load model"
   ]
  },
  {
   "cell_type": "code",
   "execution_count": 39,
   "metadata": {},
   "outputs": [
    {
     "data": {
      "text/plain": [
       "BiLSTM(\n",
       "  (embedding): Embedding(22587, 100)\n",
       "  (lstm): LSTM(100, 32, bidirectional=True)\n",
       "  (fc): Linear(in_features=64, out_features=1, bias=True)\n",
       ")"
      ]
     },
     "execution_count": 39,
     "metadata": {},
     "output_type": "execute_result"
    }
   ],
   "source": [
    "# initialize model\n",
    "model_bilstm_adversary = BiLSTM(VOCAB_SIZE, EMBEDDING_DIM, HIDDEN_DIM, OUTPUT_DIM, BIDRECTIONAL)\n",
    "model_bilstm_adversary = model_bilstm_adversary.to(device)  # place it to GPU (if available)\n",
    "\n",
    "# bilstm_adversary = SentimentClassifier(train_iter, valid_iter, model_bilstm_adversary)\n",
    "# bilstm_adversary.load_model(saved_bilstm)\n",
    "\n",
    "# load model\n",
    "model_bilstm_adversary.load_state_dict(torch.load('bilstm-0.pt'))\n",
    "model_bilstm_adversary.eval()"
   ]
  },
  {
   "cell_type": "code",
   "execution_count": null,
   "metadata": {},
   "outputs": [],
   "source": []
  },
  {
   "cell_type": "code",
   "execution_count": 41,
   "metadata": {},
   "outputs": [
    {
     "name": "stdout",
     "output_type": "stream",
     "text": [
      "\n",
      "[torchtext.data.batch.Batch of size 64]\n",
      "\t[.text]:[torch.LongTensor of size 76x64]\n",
      "\t[.label]:[torch.FloatTensor of size 1x64]\n"
     ]
    }
   ],
   "source": [
    "for valid_i in valid_iter:\n",
    "    print(valid_i)\n",
    "    break"
   ]
  },
  {
   "cell_type": "code",
   "execution_count": 61,
   "metadata": {},
   "outputs": [
    {
     "name": "stdout",
     "output_type": "stream",
     "text": [
      "tensor([ 2.3972,  2.2364, -2.2658, -2.5041,  2.3518,  1.5888,  0.3724, -0.7246,\n",
      "         0.5422,  1.1477])\n",
      "tensor([1., 1., 0., 0., 1., 1., 1., 0., 1., 1.]) tensor(0.8000)\n"
     ]
    }
   ],
   "source": [
    "k = 10\n",
    "text = valid_i.text[:, :k]\n",
    "label = (valid_i.label.squeeze(0)[:k] >= 3).float()\n",
    "with torch.no_grad():   \n",
    "    logit = model_bilstm_adversary(text).squeeze(1)\n",
    "    loss = nn.BCEWithLogitsLoss()(logit, label)\n",
    "    pred = torch.round(torch.sigmoid(logit))\n",
    "    acc = torch.sum((pred == label)).float() / len(label)\n",
    "\n",
    "print(logit)\n",
    "print(pred, acc)"
   ]
  },
  {
   "cell_type": "code",
   "execution_count": 102,
   "metadata": {},
   "outputs": [
    {
     "name": "stdout",
     "output_type": "stream",
     "text": [
      "this -> it\n",
      "was -> being\n",
      "one -> another\n",
      "of -> the\n",
      "the -> this\n",
      "best -> well\n",
      "war -> wars\n",
      "movies -> movie\n",
      "i -> 'm\n",
      "'ve -> 'd\n"
     ]
    }
   ],
   "source": [
    "for i in range(10):\n",
    "    word1 = text[:, :1][i]\n",
    "    word1_vec = model_bilstm_adversary.embedding(word1)\n",
    "    perturb = torch.sqrt(torch.sum(torch.pow((model_bilstm.embedding.weight.data - word1_vec), 2), dim=1)) - logit[0]\n",
    "    perturb[word1] = float('inf')  # do not choose the original word (argmin would be original word)\n",
    "    word1_adversary = torch.argmin(perturb)\n",
    "    original = data_loader.TEXT.vocab.itos[word1]\n",
    "    adversary = data_loader.TEXT.vocab.itos[word1_adversary]\n",
    "    print('%s -> %s' %(original, adversary))"
   ]
  },
  {
   "cell_type": "markdown",
   "metadata": {
    "heading_collapsed": true
   },
   "source": [
    "### Miscellaneous"
   ]
  },
  {
   "cell_type": "code",
   "execution_count": null,
   "metadata": {
    "hidden": true
   },
   "outputs": [],
   "source": [
    "for test_i in valid_iter:\n",
    "    print(test_i)\n",
    "    break"
   ]
  },
  {
   "cell_type": "code",
   "execution_count": null,
   "metadata": {
    "hidden": true
   },
   "outputs": [],
   "source": [
    "(test_i.label.squeeze(0) >= 3).float()"
   ]
  },
  {
   "cell_type": "code",
   "execution_count": null,
   "metadata": {
    "hidden": true
   },
   "outputs": [],
   "source": []
  }
 ],
 "metadata": {
  "kernelspec": {
   "display_name": "Python 3",
   "language": "python",
   "name": "python3"
  },
  "language_info": {
   "codemirror_mode": {
    "name": "ipython",
    "version": 3
   },
   "file_extension": ".py",
   "mimetype": "text/x-python",
   "name": "python",
   "nbconvert_exporter": "python",
   "pygments_lexer": "ipython3",
   "version": "3.6.2"
  },
  "widgets": {
   "state": {
    "d3b03a7101564d8fbc4453fe8e08a814": {
     "views": [
      {
       "cell_index": 19
      }
     ]
    },
    "dea58c50e3ab4e8c86cb37a78f0dbd9a": {
     "views": [
      {
       "cell_index": 18
      }
     ]
    }
   },
   "version": "1.2.0"
  }
 },
 "nbformat": 4,
 "nbformat_minor": 2
}
