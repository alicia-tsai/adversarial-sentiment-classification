{
 "cells": [
  {
   "cell_type": "code",
   "execution_count": 1,
   "metadata": {},
   "outputs": [],
   "source": [
    "import numpy as np\n",
    "import torch\n",
    "import torch.nn as nn\n",
    "import torch.optim as optim\n",
    "from torchtext import data\n",
    "from tqdm import tnrange, tqdm_notebook\n",
    "import torch.nn.functional as F\n",
    "from data_loader import DataLoader\n",
    "from torch.autograd import Variable\n",
    "%load_ext autoreload\n",
    "%autoreload 2"
   ]
  },
  {
   "cell_type": "code",
   "execution_count": 2,
   "metadata": {},
   "outputs": [
    {
     "name": "stdout",
     "output_type": "stream",
     "text": [
      "loading data...\n",
      "splitting data...\n",
      "building vocabulary...\n"
     ]
    }
   ],
   "source": [
    "data_loader = DataLoader()\n",
    "train, valid = data_loader.small_train_valid()"
   ]
  },
  {
   "cell_type": "code",
   "execution_count": 3,
   "metadata": {},
   "outputs": [],
   "source": [
    "BATCH_SIZE = 64\n",
    "device = torch.device('cuda' if torch.cuda.is_available() else 'cpu')\n",
    "\n",
    "# make iterator for splits\n",
    "train_iter, valid_iter = data.BucketIterator.splits((train, valid), batch_size=BATCH_SIZE, device=device)"
   ]
  },
  {
   "cell_type": "markdown",
   "metadata": {},
   "source": [
    "### Model Config"
   ]
  },
  {
   "cell_type": "code",
   "execution_count": 4,
   "metadata": {},
   "outputs": [],
   "source": [
    "VOCAB_SIZE, EMBEDDING_DIM = data_loader.TEXT.vocab.vectors.shape\n",
    "KERNEL_NUM = 100\n",
    "KERNEL_SIZES = [3,4,5]\n",
    "CLASS_NUM = 1\n",
    "DROP_OUT = 0.5"
   ]
  },
  {
   "cell_type": "markdown",
   "metadata": {},
   "source": [
    "### CNN"
   ]
  },
  {
   "cell_type": "code",
   "execution_count": 5,
   "metadata": {},
   "outputs": [],
   "source": [
    "class CNN_Text(nn.Module):\n",
    "    \n",
    "    def __init__(self, vocab_size, embed_dim, class_num, kernel_num, kernel_sizes, drop_out):\n",
    "        super(CNN_Text, self).__init__()\n",
    "#         self.args = args\n",
    "        \n",
    "#         V = args.embed_num\n",
    "#         D = args.embed_dim\n",
    "#         C = args.class_num\n",
    "#         Ci = 1\n",
    "#         Co = args.kernel_num\n",
    "#         Ks = args.kernel_sizes\n",
    "        \n",
    "        V = vocab_size\n",
    "        D = embed_dim\n",
    "        C = class_num\n",
    "        Ci = 1\n",
    "        Co = kernel_num\n",
    "        Ks = kernel_sizes\n",
    "\n",
    "        self.embed = nn.Embedding(V, D)\n",
    "        # self.convs1 = [nn.Conv2d(Ci, Co, (K, D)) for K in Ks]\n",
    "        self.convs1 = nn.ModuleList([nn.Conv2d(Ci, Co, (K, D)) for K in Ks])\n",
    "        '''\n",
    "        self.conv13 = nn.Conv2d(Ci, Co, (3, D))\n",
    "        self.conv14 = nn.Conv2d(Ci, Co, (4, D))\n",
    "        self.conv15 = nn.Conv2d(Ci, Co, (5, D))\n",
    "        '''\n",
    "        self.dropout = nn.Dropout(drop_out)\n",
    "        self.fc1 = nn.Linear(len(Ks)*Co, C)\n",
    "\n",
    "    def conv_and_pool(self, x, conv):\n",
    "        x = F.relu(conv(x)).squeeze(3)  # (N, Co, W)\n",
    "        x = F.max_pool1d(x, x.size(2)).squeeze(2)\n",
    "        return x\n",
    "\n",
    "    def forward(self, x):\n",
    "        x = self.embed(x)  # (N, W, D)\n",
    "        \n",
    "#         if self.args.static:\n",
    "#             x = Variable(x)\n",
    "        x = x.unsqueeze(1)  # (N, Ci, W, D)\n",
    "\n",
    "        x = [F.relu(conv(x)).squeeze(3) for conv in self.convs1]  # [(N, Co, W), ...]*len(Ks)\n",
    "\n",
    "        x = [F.max_pool1d(i, i.size(2)).squeeze(2) for i in x]  # [(N, Co), ...]*len(Ks)\n",
    "\n",
    "        x = torch.cat(x, 1)\n",
    "\n",
    "        '''\n",
    "        x1 = self.conv_and_pool(x,self.conv13) #(N,Co)\n",
    "        x2 = self.conv_and_pool(x,self.conv14) #(N,Co)\n",
    "        x3 = self.conv_and_pool(x,self.conv15) #(N,Co)\n",
    "        x = torch.cat((x1, x2, x3), 1) # (N,len(Ks)*Co)\n",
    "        '''\n",
    "        x = self.dropout(x)  # (N, len(Ks)*Co)\n",
    "        logit = self.fc1(x)  # (N, C)\n",
    "        return logit"
   ]
  },
  {
   "cell_type": "code",
   "execution_count": 6,
   "metadata": {},
   "outputs": [
    {
     "data": {
      "text/plain": [
       "tensor([[ 0.0000,  0.0000,  0.0000,  ...,  0.0000,  0.0000,  0.0000],\n",
       "        [ 0.0000,  0.0000,  0.0000,  ...,  0.0000,  0.0000,  0.0000],\n",
       "        [-0.0382, -0.2449,  0.7281,  ..., -0.1459,  0.8278,  0.2706],\n",
       "        ...,\n",
       "        [-0.6815,  0.5909, -0.7525,  ...,  0.3713, -0.2969,  0.0298],\n",
       "        [ 0.0000,  0.0000,  0.0000,  ...,  0.0000,  0.0000,  0.0000],\n",
       "        [-0.2415, -0.1050, -0.1875,  ..., -0.3229,  0.1251, -0.8694]])"
      ]
     },
     "execution_count": 6,
     "metadata": {},
     "output_type": "execute_result"
    }
   ],
   "source": [
    "# initialize model\n",
    "model_cnn = CNN_Text(VOCAB_SIZE, EMBEDDING_DIM, CLASS_NUM, KERNEL_NUM, KERNEL_SIZES, DROP_OUT)\n",
    "model_cnn = model_cnn.to(device)  # place it to GPU (if available)\n",
    "\n",
    "# replace inintial weights of embedding layer with pred-trained embedding\n",
    "pretrained_embeddings = data_loader.TEXT.vocab.vectors\n",
    "model_cnn.embed.weight.data.copy_(pretrained_embeddings)"
   ]
  },
  {
   "cell_type": "code",
   "execution_count": 7,
   "metadata": {},
   "outputs": [],
   "source": [
    "class SentimentClassifier:\n",
    "    \n",
    "    def __init__(self, train_iter, valid_iter, model):\n",
    "        self.train_iter = train_iter\n",
    "        self.valid_iter = valid_iter\n",
    "        self.model = model\n",
    "        self.optimizer = optim.Adam(self.model.parameters())\n",
    "        self.loss_function = nn.BCEWithLogitsLoss()          # Binary Cross-Entropy Loss\n",
    "        self.loss_function = self.loss_function.to(device)   # place it to GPU (if available)\n",
    "        \n",
    "    def accuracy(self, pred, y):\n",
    "        \"\"\"Define metric for evaluation.\"\"\"\n",
    "        pred = torch.round(torch.sigmoid(pred))\n",
    "        acc = torch.sum((pred == y)).float() / len(y)\n",
    "        return acc\n",
    "\n",
    "    def train_model(self):\n",
    "        \"\"\"Train one epoch of inputs and update weights.\n",
    "        \n",
    "        Return: average loss, average accuracy.\n",
    "        \"\"\"\n",
    "        epoch_loss = []\n",
    "        epoch_acc = []\n",
    "        self.model.train()\n",
    "\n",
    "        for batch_data in self.train_iter:\n",
    "            self.optimizer.zero_grad()  # clear out gradient\n",
    "            pred = self.model(batch_data.text.t_()).squeeze(1)\n",
    "            y = (batch_data.label.squeeze(0) >= 3).float()  # neg:2, pos:3 -> convert them to 0 and 1\n",
    "            loss = self.loss_function(pred, y)\n",
    "            acc = self.accuracy(pred, y)\n",
    "\n",
    "            # backprob and update gradient\n",
    "            loss.backward()\n",
    "            self.optimizer.step()\n",
    "\n",
    "            epoch_loss.append(loss.item())\n",
    "            epoch_acc.append(acc.item())\n",
    "\n",
    "        return np.mean(epoch_loss), np.mean(epoch_acc)\n",
    "\n",
    "    \n",
    "    def evaluate_model(self):\n",
    "        \"\"\"Evaluate one epoch of inputs.\n",
    "        \n",
    "        Return: average loss, average accuracy.\n",
    "        \"\"\"\n",
    "        epoch_loss = []\n",
    "        epoch_acc = []\n",
    "        self.model.eval()\n",
    "\n",
    "        with torch.no_grad():    \n",
    "            for batch_data in self.valid_iter:\n",
    "                pred = self.model(batch_data.text.t_()).squeeze(1)\n",
    "                y = (batch_data.label.squeeze(0) >= 3).float()\n",
    "                loss = self.loss_function(pred, y)\n",
    "                acc = self.accuracy(pred, y)\n",
    "\n",
    "                epoch_loss.append(loss.item())\n",
    "                epoch_acc.append(acc.item())\n",
    "\n",
    "        return np.mean(epoch_loss), np.mean(epoch_acc)\n",
    "\n",
    "    \n",
    "    def run_epochs(self, num_epochs=20, eval_each=1):\n",
    "        \"\"\"Run # epochs and evaluate the model.\n",
    "        \n",
    "        Return: average loss and accuracy per epoch for training and validation set.\n",
    "        \"\"\"\n",
    "        train_epoch_metrics, valid_epoch_metrics = [], []\n",
    "        \n",
    "        for epoch in tnrange(num_epochs, desc='EPOCHS'):\n",
    "            train_loss, train_acc = self.train_model()\n",
    "            valid_loss, valid_acc = self.evaluate_model()\n",
    "            train_epoch_metrics.append((train_loss, train_acc))\n",
    "            valid_epoch_metrics.append((valid_loss, valid_acc))\n",
    "\n",
    "            if (epoch + 1) % eval_each == 0:\n",
    "                print('Epoch %d | Train Loss: %.2f | Train Acc: %.2f | Test Loss: %.2f | Test Acc: %.2f'\n",
    "                      %(epoch, train_loss, train_acc, valid_loss, valid_acc))\n",
    "        \n",
    "        return train_epoch_metrics, valid_epoch_metrics\n",
    "    \n",
    "    def save_model(self, PATH):\n",
    "        torch.save(self.model.state_dict(), PATH)\n",
    "        \n",
    "    def load_model(self, PATH):\n",
    "        self.model.load_state_dict(torch.load(PATH))\n",
    "        self.model.eval()"
   ]
  },
  {
   "cell_type": "code",
   "execution_count": 8,
   "metadata": {},
   "outputs": [
    {
     "data": {
      "application/vnd.jupyter.widget-view+json": {
       "model_id": "ac86f17fd396487ea5e6fd7fe3d5d2ec",
       "version_major": 2,
       "version_minor": 0
      },
      "text/html": [
       "<p>Failed to display Jupyter Widget of type <code>HBox</code>.</p>\n",
       "<p>\n",
       "  If you're reading this message in the Jupyter Notebook or JupyterLab Notebook, it may mean\n",
       "  that the widgets JavaScript is still loading. If this message persists, it\n",
       "  likely means that the widgets JavaScript library is either not installed or\n",
       "  not enabled. See the <a href=\"https://ipywidgets.readthedocs.io/en/stable/user_install.html\">Jupyter\n",
       "  Widgets Documentation</a> for setup instructions.\n",
       "</p>\n",
       "<p>\n",
       "  If you're reading this message in another frontend (for example, a static\n",
       "  rendering on GitHub or <a href=\"https://nbviewer.jupyter.org/\">NBViewer</a>),\n",
       "  it may mean that your frontend doesn't currently support widgets.\n",
       "</p>\n"
      ],
      "text/plain": [
       "HBox(children=(IntProgress(value=0, description='EPOCHS', max=20, style=ProgressStyle(description_width='initial')), HTML(value='')))"
      ]
     },
     "metadata": {},
     "output_type": "display_data"
    },
    {
     "name": "stdout",
     "output_type": "stream",
     "text": [
      "Epoch 0 | Train Loss: 0.71 | Train Acc: 0.52 | Test Loss: 0.68 | Test Acc: 0.50\n",
      "Epoch 1 | Train Loss: 0.62 | Train Acc: 0.68 | Test Loss: 0.65 | Test Acc: 0.62\n",
      "Epoch 2 | Train Loss: 0.57 | Train Acc: 0.75 | Test Loss: 0.61 | Test Acc: 0.75\n",
      "Epoch 3 | Train Loss: 0.50 | Train Acc: 0.81 | Test Loss: 0.57 | Test Acc: 0.77\n",
      "Epoch 4 | Train Loss: 0.41 | Train Acc: 0.88 | Test Loss: 0.57 | Test Acc: 0.67\n",
      "Epoch 5 | Train Loss: 0.35 | Train Acc: 0.90 | Test Loss: 0.48 | Test Acc: 0.80\n",
      "Epoch 6 | Train Loss: 0.27 | Train Acc: 0.94 | Test Loss: 0.46 | Test Acc: 0.79\n",
      "Epoch 7 | Train Loss: 0.22 | Train Acc: 0.95 | Test Loss: 0.43 | Test Acc: 0.81\n",
      "Epoch 8 | Train Loss: 0.17 | Train Acc: 0.98 | Test Loss: 0.42 | Test Acc: 0.81\n",
      "Epoch 9 | Train Loss: 0.12 | Train Acc: 0.99 | Test Loss: 0.41 | Test Acc: 0.82\n",
      "Epoch 10 | Train Loss: 0.09 | Train Acc: 0.99 | Test Loss: 0.42 | Test Acc: 0.82\n",
      "Epoch 11 | Train Loss: 0.07 | Train Acc: 0.99 | Test Loss: 0.41 | Test Acc: 0.82\n",
      "Epoch 12 | Train Loss: 0.06 | Train Acc: 1.00 | Test Loss: 0.41 | Test Acc: 0.82\n",
      "Epoch 13 | Train Loss: 0.04 | Train Acc: 1.00 | Test Loss: 0.43 | Test Acc: 0.82\n",
      "Epoch 14 | Train Loss: 0.04 | Train Acc: 1.00 | Test Loss: 0.41 | Test Acc: 0.82\n",
      "Epoch 15 | Train Loss: 0.03 | Train Acc: 1.00 | Test Loss: 0.41 | Test Acc: 0.82\n",
      "Epoch 16 | Train Loss: 0.02 | Train Acc: 1.00 | Test Loss: 0.41 | Test Acc: 0.82\n",
      "Epoch 17 | Train Loss: 0.02 | Train Acc: 1.00 | Test Loss: 0.41 | Test Acc: 0.83\n",
      "Epoch 18 | Train Loss: 0.02 | Train Acc: 1.00 | Test Loss: 0.42 | Test Acc: 0.83\n",
      "Epoch 19 | Train Loss: 0.01 | Train Acc: 1.00 | Test Loss: 0.42 | Test Acc: 0.82\n",
      "\n"
     ]
    }
   ],
   "source": [
    "cnn_classifier = SentimentClassifier(train_iter, valid_iter, model_cnn)\n",
    "cnn_train_epoch_metrics, cnn_valid_epoch_metrics = cnn_classifier.run_epochs()"
   ]
  },
  {
   "cell_type": "code",
   "execution_count": 9,
   "metadata": {},
   "outputs": [],
   "source": [
    "cnn_classifier.save_model('cnn-0.pt')"
   ]
  },
  {
   "cell_type": "code",
   "execution_count": 10,
   "metadata": {},
   "outputs": [
    {
     "name": "stdout",
     "output_type": "stream",
     "text": [
      "Model's state_dict:\n",
      "embed.weight \t torch.Size([22653, 100])\n",
      "convs1.0.weight \t torch.Size([100, 1, 3, 100])\n",
      "convs1.0.bias \t torch.Size([100])\n",
      "convs1.1.weight \t torch.Size([100, 1, 4, 100])\n",
      "convs1.1.bias \t torch.Size([100])\n",
      "convs1.2.weight \t torch.Size([100, 1, 5, 100])\n",
      "convs1.2.bias \t torch.Size([100])\n",
      "fc1.weight \t torch.Size([1, 300])\n",
      "fc1.bias \t torch.Size([1])\n"
     ]
    }
   ],
   "source": [
    "print(\"Model's state_dict:\")\n",
    "for param_tensor in cnn_classifier.model.state_dict():\n",
    "    print(param_tensor, \"\\t\", cnn_classifier.model.state_dict()[param_tensor].size())"
   ]
  },
  {
   "cell_type": "markdown",
   "metadata": {},
   "source": [
    "### Experiment"
   ]
  },
  {
   "cell_type": "code",
   "execution_count": 11,
   "metadata": {},
   "outputs": [],
   "source": [
    "# train_iter, valid_iter = data.BucketIterator.splits((train, valid), batch_size=len(train))"
   ]
  },
  {
   "cell_type": "code",
   "execution_count": null,
   "metadata": {},
   "outputs": [],
   "source": []
  },
  {
   "cell_type": "code",
   "execution_count": null,
   "metadata": {},
   "outputs": [],
   "source": []
  },
  {
   "cell_type": "code",
   "execution_count": 12,
   "metadata": {},
   "outputs": [],
   "source": [
    "# train_iter"
   ]
  },
  {
   "cell_type": "code",
   "execution_count": 13,
   "metadata": {},
   "outputs": [],
   "source": [
    "# for batch in train_iter:\n",
    "#     print(batch)\n",
    "#     break"
   ]
  },
  {
   "cell_type": "code",
   "execution_count": 14,
   "metadata": {},
   "outputs": [],
   "source": [
    "# batch.text.shape"
   ]
  },
  {
   "cell_type": "code",
   "execution_count": 15,
   "metadata": {},
   "outputs": [],
   "source": [
    "# batch.label.shape"
   ]
  },
  {
   "cell_type": "code",
   "execution_count": 16,
   "metadata": {},
   "outputs": [],
   "source": [
    "# len([data_loader.TEXT.vocab.itos[i] for i in batch.text[:, 0]])"
   ]
  },
  {
   "cell_type": "code",
   "execution_count": null,
   "metadata": {},
   "outputs": [],
   "source": []
  },
  {
   "cell_type": "code",
   "execution_count": null,
   "metadata": {},
   "outputs": [],
   "source": []
  },
  {
   "cell_type": "code",
   "execution_count": null,
   "metadata": {},
   "outputs": [],
   "source": []
  },
  {
   "cell_type": "markdown",
   "metadata": {},
   "source": [
    "###### "
   ]
  }
 ],
 "metadata": {
  "kernelspec": {
   "display_name": "Python 3",
   "language": "python",
   "name": "python3"
  },
  "language_info": {
   "codemirror_mode": {
    "name": "ipython",
    "version": 3
   },
   "file_extension": ".py",
   "mimetype": "text/x-python",
   "name": "python",
   "nbconvert_exporter": "python",
   "pygments_lexer": "ipython3",
   "version": "3.6.4"
  }
 },
 "nbformat": 4,
 "nbformat_minor": 2
}
